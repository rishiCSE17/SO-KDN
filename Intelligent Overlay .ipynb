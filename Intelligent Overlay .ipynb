{
 "cells": [
  {
   "cell_type": "markdown",
   "metadata": {},
   "source": [
    "# Configure Network"
   ]
  },
  {
   "cell_type": "markdown",
   "metadata": {},
   "source": [
    "## Reference topology"
   ]
  },
  {
   "cell_type": "markdown",
   "metadata": {},
   "source": [
    "![](pics/topology.png)"
   ]
  },
  {
   "cell_type": "markdown",
   "metadata": {},
   "source": [
    "## Configure Routers \n",
    "\n",
    "__Router 1__\n",
    "\n",
    "`!---------------------------------------------\n",
    "conf t\n",
    "!-----------------------------------------------\n",
    "! Configuring Interfaces\n",
    "!-----------------------------------------------\n",
    "int s1/0\n",
    "  ip address 12.0.0.1 255.255.255.252\n",
    "  no sh\n",
    "  int l0\n",
    "  ip add 192.168.1.1 255.255.255.0\n",
    "  int s1/1\n",
    "  ip add 13.0.0.1 255.255.255.252\n",
    "  no sh\n",
    "  int f0/0\n",
    "  ip add dhcp\n",
    "  no sh\n",
    "  exit\n",
    "!-----------------------------------------------\n",
    "! Configuring EIGRP AS:100\n",
    "!-----------------------------------------------\n",
    "  router eigrp 100\n",
    "  no auto\n",
    "  net 0.0.0.0\n",
    "exit\n",
    "!-----------------------------------------------\n",
    "! Configuring SSH \n",
    "!-----------------------------------------------\n",
    "  ip domain name lsbu.com\n",
    "  username rishi password Pass123..\n",
    "  crypto key gen rsa mod 1024\n",
    "  ip ssh ver 2\n",
    "  line vty 0 15\n",
    "  transport input ssh\n",
    "  transport out ssh\n",
    "  login local\n",
    "end\n",
    "wr\n",
    "`\n",
    "\n",
    "__Router 2__\n",
    "\n",
    "`!R2\n",
    "!---------------------------------------------\n",
    "conf t\n",
    "!-----------------------------------------------\n",
    "! Configuring Interfaces\n",
    "!-----------------------------------------------\n",
    "int s1/0\n",
    "  ip address 12.0.0.2 255.255.255.252\n",
    "  no sh\n",
    "  int l0\n",
    "  ip add 192.168.2.1 255.255.255.0\n",
    "  int s1/1\n",
    "  ip add 23.0.0.1 255.255.255.252\n",
    "  no sh\n",
    "  int f0/0\n",
    "  ip add dhcp\n",
    "  no sh\n",
    "  exit\n",
    "!-----------------------------------------------\n",
    "! Configuring EIGRP AS:100\n",
    "!-----------------------------------------------\n",
    "  router eigrp 100\n",
    "  no auto-summary\n",
    "  net 0.0.0.0\n",
    "exit\n",
    "!-----------------------------------------------\n",
    "! Configuring SSH \n",
    "!-----------------------------------------------\n",
    "  ip domain name lsbu.com\n",
    "  username rishi password Pass123..\n",
    "  crypto key gen rsa mod 1024\n",
    "  ip ssh ver 2\n",
    "  line vty 0 15\n",
    "  transport input ssh\n",
    "  transport out ssh\n",
    "  login local\n",
    "end\n",
    "wr\n",
    "`\n",
    "\n",
    "__Router 3__\n",
    "\n",
    "`!R3\n",
    "!---------------------------------------------\n",
    "conf t\n",
    "!-----------------------------------------------\n",
    "! Configuring Interfaces\n",
    "!-----------------------------------------------\n",
    "int s1/0\n",
    "  ip address 23.0.0.2 255.255.255.252\n",
    "  no sh\n",
    "  int l0\n",
    "  ip add 192.168.3.1 255.255.255.0\n",
    "  int s1/1\n",
    "  ip add 13.0.0.2 255.255.255.252\n",
    "  no sh\n",
    "  int f0/0\n",
    "  ip add dhcp\n",
    "  no sh\n",
    "  exit\n",
    "!-----------------------------------------------\n",
    "! Configuring EIGRP AS:100\n",
    "!-----------------------------------------------\n",
    "  router eigrp 100\n",
    "  no auto-summary\n",
    "  net 0.0.0.0\n",
    "exit\n",
    "!-----------------------------------------------\n",
    "! Configuring SSH \n",
    "!-----------------------------------------------\n",
    "  ip domain name lsbu.com\n",
    "  username rishi password Pass123..\n",
    "  crypto key gen rsa mod 1024\n",
    "  ip ssh ver 2\n",
    "  line vty 0 15\n",
    "  transport input ssh\n",
    "  transport out ssh\n",
    "  login local\n",
    "end\n",
    "wr`"
   ]
  },
  {
   "cell_type": "markdown",
   "metadata": {},
   "source": [
    "## Enabling SSH Access\n",
    "\n",
    "To access the routers externally, an SSH connnection is used (similar to OF Channel)"
   ]
  },
  {
   "cell_type": "markdown",
   "metadata": {},
   "source": [
    "![](pics/topo_ssh.png) "
   ]
  },
  {
   "cell_type": "markdown",
   "metadata": {},
   "source": [
    "# Creating a Control plane "
   ]
  },
  {
   "cell_type": "markdown",
   "metadata": {},
   "source": [
    "## Step 1 : eshtablish connection"
   ]
  },
  {
   "cell_type": "code",
   "execution_count": 3,
   "metadata": {},
   "outputs": [],
   "source": [
    "import napalm as npm "
   ]
  },
  {
   "cell_type": "code",
   "execution_count": 4,
   "metadata": {},
   "outputs": [],
   "source": [
    "# create a driver \n",
    "driver = npm.get_network_driver('ios')"
   ]
  },
  {
   "cell_type": "code",
   "execution_count": 373,
   "metadata": {},
   "outputs": [],
   "source": [
    "# list of all SSH accessible IP addresses \n",
    "\n",
    "def init_param():\n",
    "    ip_list = ['192.168.182.140', '192.168.182.141', '192.168.182.142']\n",
    "    uname = 'rishi'\n",
    "    passwd = 'Pass123..'\n",
    "    sec = 'cisco123'\n",
    "    router_obj_list=[]\n",
    "    # create a routre Object \n",
    "    for ip in ip_list:\n",
    "        router_obj_list.append(driver(hostname=ip, \n",
    "                                      username=uname, \n",
    "                                      password=passwd,\n",
    "                                      optional_args={'secret' : 'cisco123'})\n",
    "                              )\n",
    "    \n",
    "    return router_obj_list\n",
    "\n",
    "def open_conn(router_obj_list):\n",
    "    for router in router_obj_list:\n",
    "        router.open()\n",
    "        temp = router.get_facts()\n",
    "        print(f\"Connection to {temp['vendor']} {temp['model']} Successfull... !\")"
   ]
  },
  {
   "cell_type": "code",
   "execution_count": 288,
   "metadata": {},
   "outputs": [
    {
     "name": "stdout",
     "output_type": "stream",
     "text": [
      "Connection to Cisco 3660 Successfull... !\n",
      "Connection to Cisco 3660 Successfull... !\n",
      "Connection to Cisco 3660 Successfull... !\n"
     ]
    }
   ],
   "source": [
    "ro_list = init_param()\n",
    "open_conn(ro_list)"
   ]
  },
  {
   "cell_type": "markdown",
   "metadata": {},
   "source": [
    "### A Multithreaded Connector "
   ]
  },
  {
   "cell_type": "code",
   "execution_count": 374,
   "metadata": {},
   "outputs": [],
   "source": [
    "import threading\n",
    "\n",
    "def th_func(ro):\n",
    "    ro.open()\n",
    "    temp = ro.get_facts()\n",
    "    print(f\"Connection to {temp['vendor']} {temp['model']} Successfull... !\")\n",
    "    \n",
    "def open_conn_MT(router_obj_list):\n",
    "    thread_list=[]\n",
    "    for ro in router_obj_list:\n",
    "        thread_list.append(threading.Thread(target=th_func, args=(ro,)))\n",
    "    for th in thread_list:\n",
    "        th.start()\n",
    "    for th in thread_list:\n",
    "        th.join()"
   ]
  },
  {
   "cell_type": "code",
   "execution_count": 513,
   "metadata": {},
   "outputs": [
    {
     "name": "stdout",
     "output_type": "stream",
     "text": [
      "Connection to Cisco 3660 Successfull... !\n",
      "Connection to Cisco 3660 Successfull... !\n",
      "Connection to Cisco 3660 Successfull... !\n"
     ]
    }
   ],
   "source": [
    "ro_list = init_param()\n",
    "open_conn_MT(ro_list)"
   ]
  },
  {
   "cell_type": "markdown",
   "metadata": {},
   "source": [
    "### Comparing Execution Times "
   ]
  },
  {
   "cell_type": "code",
   "execution_count": 220,
   "metadata": {},
   "outputs": [],
   "source": [
    "import time"
   ]
  },
  {
   "cell_type": "code",
   "execution_count": 221,
   "metadata": {},
   "outputs": [
    {
     "name": "stdout",
     "output_type": "stream",
     "text": [
      "Connection to Cisco 3660 Successfull... !\n",
      "Connection to Cisco 3660 Successfull... !\n",
      "Connection to Cisco 3660 Successfull... !\n",
      "\n",
      "time taken : 20.603 sec(s)\n",
      "-----------------------------------------------\n",
      "Connection to Cisco 3660 Successfull... !\n",
      "Connection to Cisco 3660 Successfull... !\n",
      "Connection to Cisco 3660 Successfull... !\n",
      "\n",
      "time taken : 7.1 sec(s)\n"
     ]
    }
   ],
   "source": [
    "t=time.time()\n",
    "open_conn(ro_list)\n",
    "print(f'\\ntime taken : {round(time.time() - t, 3)} sec(s)')\n",
    "print('-----------------------------------------------')\n",
    "t=time.time()\n",
    "open_conn_MT(ro_list)\n",
    "print(f'\\ntime taken : {round(time.time() - t, 3)} sec(s)')"
   ]
  },
  {
   "cell_type": "markdown",
   "metadata": {},
   "source": [
    "## step 2 : Fetch CPU and Memory Utill"
   ]
  },
  {
   "cell_type": "code",
   "execution_count": 54,
   "metadata": {},
   "outputs": [],
   "source": [
    "def get_util(router_obj):\n",
    "    temp = router_obj.get_environment()\n",
    "    cpu = temp['cpu'][0]['%usage']\n",
    "    mem = round(int(temp['memory']['used_ram']) / int(temp['memory']['available_ram']),3)\n",
    "    return {'cpu' : cpu , 'mem' : mem}"
   ]
  },
  {
   "cell_type": "code",
   "execution_count": 55,
   "metadata": {},
   "outputs": [
    {
     "name": "stdout",
     "output_type": "stream",
     "text": [
      "{'cpu': 1.0, 'mem': 0.19}\n",
      "{'cpu': 1.0, 'mem': 0.19}\n",
      "{'cpu': 1.0, 'mem': 0.19}\n"
     ]
    }
   ],
   "source": [
    "for r in ro_list:\n",
    "    print(get_util(r))"
   ]
  },
  {
   "cell_type": "markdown",
   "metadata": {},
   "source": [
    "## Step 3 : Organising Info"
   ]
  },
  {
   "cell_type": "markdown",
   "metadata": {},
   "source": [
    "### Getting the facts"
   ]
  },
  {
   "cell_type": "code",
   "execution_count": 56,
   "metadata": {},
   "outputs": [
    {
     "data": {
      "text/plain": [
       "{'uptime': 5820,\n",
       " 'vendor': 'Cisco',\n",
       " 'os_version': '3600 Software (C3660-A3JK9S-M), Version 12.4(15)T14, RELEASE SOFTWARE (fc2)',\n",
       " 'serial_number': 'FTX0945W0MY',\n",
       " 'model': '3660',\n",
       " 'hostname': 'R1',\n",
       " 'fqdn': 'R1.lsbu.com',\n",
       " 'interface_list': ['FastEthernet0/0',\n",
       "  'FastEthernet0/1',\n",
       "  'Serial1/0',\n",
       "  'Serial1/1',\n",
       "  'Serial1/2',\n",
       "  'Serial1/3',\n",
       "  'Loopback0']}"
      ]
     },
     "execution_count": 56,
     "metadata": {},
     "output_type": "execute_result"
    }
   ],
   "source": [
    "facts = ro_list[0].get_facts()\n",
    "facts"
   ]
  },
  {
   "cell_type": "markdown",
   "metadata": {},
   "source": [
    "__hostname & Model Number__"
   ]
  },
  {
   "cell_type": "code",
   "execution_count": 57,
   "metadata": {},
   "outputs": [
    {
     "name": "stdout",
     "output_type": "stream",
     "text": [
      "hostname : R1\n",
      "model : 3660\n"
     ]
    }
   ],
   "source": [
    "print(f'hostname : {facts[\"hostname\"]}')\n",
    "print(f'model : {facts[\"model\"]}')"
   ]
  },
  {
   "cell_type": "markdown",
   "metadata": {},
   "source": [
    "### Interface IPs"
   ]
  },
  {
   "cell_type": "code",
   "execution_count": 65,
   "metadata": {},
   "outputs": [
    {
     "data": {
      "text/plain": [
       "{'FastEthernet0/0': {'ipv4': {'192.168.182.140': {'prefix_length': 24}}},\n",
       " 'Serial1/0': {'ipv4': {'12.0.0.1': {'prefix_length': 30}}},\n",
       " 'Serial1/1': {'ipv4': {'13.0.0.1': {'prefix_length': 30}}},\n",
       " 'Loopback0': {'ipv4': {'192.168.1.1': {'prefix_length': 24}}}}"
      ]
     },
     "execution_count": 65,
     "metadata": {},
     "output_type": "execute_result"
    }
   ],
   "source": [
    "ip_intf = ro_list[0].get_interfaces_ip()\n",
    "ip_intf"
   ]
  },
  {
   "cell_type": "markdown",
   "metadata": {},
   "source": [
    "__Name, IP Address, cidr__"
   ]
  },
  {
   "cell_type": "code",
   "execution_count": 154,
   "metadata": {},
   "outputs": [
    {
     "name": "stdout",
     "output_type": "stream",
     "text": [
      "name : FastEthernet0/0\n",
      "ip   : 192.168.182.140\n",
      "name : Serial1/0\n",
      "ip   : 12.0.0.1\n",
      "name : Serial1/1\n",
      "ip   : 13.0.0.1\n",
      "name : Loopback0\n",
      "ip   : 192.168.1.1\n"
     ]
    }
   ],
   "source": [
    "ip_intf_list = ip_int.keys()\n",
    "for intf in ip_intf_list:\n",
    "    print(f'name : {intf}')\n",
    "    print(f'ip   : {list(ip_intf[intf][\"ipv4\"])[0]}')"
   ]
  },
  {
   "cell_type": "markdown",
   "metadata": {},
   "source": [
    "### Metric Parameters\n",
    "\n",
    "* The metric (Cost), is a function of Bandwidth, Delay, Load & Reliabiliy.\n",
    "* each of the parameter is prioritised by a constant $(k_i)$\n",
    "* The metric is given below:\n",
    "$Cost = \\biggl[ \\biggl( 1-k_{load} \\biggl( \\frac{Load_{tx} + Load_{rx}}{2} \\biggr) \\biggr) \\biggl( k_{bw}BW * k_{dly}Delay \\biggr) \\biggr] * \\biggl( k_{rly}Reliability \\biggr) $\n",
    "* $bw * dly$ : gives BDP, signifies total volume of data that can fit into the channel\n",
    "* $1 - \\biggl( \\frac{L_{tx} + L_{rx}}{2} \\biggr) $ : average free capaciy"
   ]
  },
  {
   "cell_type": "code",
   "execution_count": 401,
   "metadata": {},
   "outputs": [],
   "source": [
    "def get_cost(bw, dly, rly, tload, rload, k_val=[0.25, 0.25, 0.25, 0.25]):\n",
    "    \n",
    "    kb=k_val[0]\n",
    "    kd=k_val[1]\n",
    "    kr=k_val[2]\n",
    "    kl=k_val[3]\n",
    "    \n",
    "    term1 = 1 - kl*(tload + rload)/2\n",
    "    term2 = kb*bw * kd*dly\n",
    "    term3 = kr*rly\n",
    "    \n",
    "    return term1 * term2 * term3"
   ]
  },
  {
   "cell_type": "markdown",
   "metadata": {},
   "source": [
    "__Bandwidth, Delay, MTU, Reliability, Load__"
   ]
  },
  {
   "cell_type": "code",
   "execution_count": 138,
   "metadata": {},
   "outputs": [
    {
     "name": "stdout",
     "output_type": "stream",
     "text": [
      "['MTU', '1500', 'bytes,', 'BW', '1544', 'Kbit/sec,', 'DLY', '20000', 'usec,']\n",
      "BW  : 1544\n",
      "DLY : 20000\n",
      "MTU : 1500\n"
     ]
    }
   ],
   "source": [
    "intf = 'Serial1/0'\n",
    "cmd=[f'sh int {intf} | inc MTU',f'sh int {intf} | inc load']\n",
    "temp_bdm=ro_list[0].cli([cmd[0]])[cmd[0]].split(' ')\n",
    "print(temp)\n",
    "print(f'BW  : {int(temp_bdm[4])}')\n",
    "print(f'DLY : {int(temp_bdm[7])}')\n",
    "print(f'MTU : {int(temp_bdm[1])}')"
   ]
  },
  {
   "cell_type": "markdown",
   "metadata": {},
   "source": [
    "__Reliability and Load__"
   ]
  },
  {
   "cell_type": "code",
   "execution_count": 144,
   "metadata": {},
   "outputs": [
    {
     "name": "stdout",
     "output_type": "stream",
     "text": [
      "['reliability', '255/255,', 'txload', '1/255,', 'rxload', '1/255']\n",
      "reliability :1.0\n",
      "tx_load     :0.004\n",
      "rx_load     :0.004\n"
     ]
    }
   ],
   "source": [
    "intf = 'Serial1/0'\n",
    "temp_rll=ro_list[0].cli([cmd[1]])[cmd[1]].split(' ')\n",
    "print(temp_rll)\n",
    "print(f'reliability :{round(eval(temp_rll[1])[0],3)}')\n",
    "print(f'tx_load     :{round(eval(temp_rll[3])[0],3)}')\n",
    "print(f'rx_load     :{round(eval(temp_rll[5]),3)}')"
   ]
  },
  {
   "cell_type": "code",
   "execution_count": 514,
   "metadata": {},
   "outputs": [],
   "source": [
    "'fetch metadata of a router (ro) given as Router_object'\n",
    "\n",
    "def gen_router_metadata(ro):\n",
    "    facts = ro.get_facts()\n",
    "    ip_intf = ro.get_interfaces_ip()\n",
    "    \n",
    "    ro_menifest = {\n",
    "        'host' : facts[\"hostname\"],\n",
    "        'model': facts[\"model\"],\n",
    "        'util' : get_util(ro),       #{'cpu' : c_util , 'mem' : m_util}\n",
    "        'intf' : {}\n",
    "        }\n",
    "    \n",
    "    ip_intf_list = ip_intf.keys()\n",
    "    \n",
    "    #fetch Metric Information for each active interface \n",
    "    for intf in ip_intf_list:\n",
    "        cmd=[f'sh int {intf} | inc MTU',\n",
    "             f'sh int {intf} | inc load']\n",
    "        \n",
    "        temp_bdm=ro.cli([cmd[0]])[cmd[0]].split(' ')\n",
    "        temp_rll=ro.cli([cmd[1]])[cmd[1]].split(' ')\n",
    "                \n",
    "        ro_menifest['intf'][intf] = {'ip' : list(ip_intf[intf][\"ipv4\"])[0], \n",
    "                                'bw' : int(temp_bdm[4]),\n",
    "                                'dly': int(temp_bdm[7]),\n",
    "                                'mtu': int(temp_bdm[1]),\n",
    "                                'rly': round(eval(temp_rll[1])[0],3),\n",
    "                                'tld': round(eval(temp_rll[3])[0],3),\n",
    "                                'rld': round(eval(temp_rll[5]),3)\n",
    "                               }\n",
    "        ro_menifest['intf'][intf]['cost'] = get_cost(bw = ro_menifest['intf'][intf]['bw'],\n",
    "                                                     dly= ro_menifest['intf'][intf]['dly'],\n",
    "                                                     rly= ro_menifest['intf'][intf]['rly'],\n",
    "                                                     tload=ro_menifest['intf'][intf]['tld'],\n",
    "                                                     rload=ro_menifest['intf'][intf]['rld']\n",
    "                                                    )\n",
    "    return ro_menifest"
   ]
  },
  {
   "cell_type": "markdown",
   "metadata": {},
   "source": [
    "### Verify Menifest of Router Object "
   ]
  },
  {
   "cell_type": "code",
   "execution_count": 515,
   "metadata": {},
   "outputs": [
    {
     "name": "stdout",
     "output_type": "stream",
     "text": [
      "{\n",
      "    \"host\": \"R1\",\n",
      "    \"model\": \"3660\",\n",
      "    \"util\": {\n",
      "        \"cpu\": 2.0,\n",
      "        \"mem\": 0.19\n",
      "    },\n",
      "    \"intf\": {\n",
      "        \"FastEthernet0/0\": {\n",
      "            \"ip\": \"192.168.182.140\",\n",
      "            \"bw\": 100000,\n",
      "            \"dly\": 100,\n",
      "            \"mtu\": 1500,\n",
      "            \"rly\": 1.0,\n",
      "            \"tld\": 0.004,\n",
      "            \"rld\": 0.004,\n",
      "            \"cost\": 156093.75\n",
      "        },\n",
      "        \"Serial1/0\": {\n",
      "            \"ip\": \"12.0.0.1\",\n",
      "            \"bw\": 1544,\n",
      "            \"dly\": 20000,\n",
      "            \"mtu\": 1500,\n",
      "            \"rly\": 1.0,\n",
      "            \"tld\": 0.004,\n",
      "            \"rld\": 0.004,\n",
      "            \"cost\": 482017.5\n",
      "        },\n",
      "        \"Serial1/1\": {\n",
      "            \"ip\": \"13.0.0.1\",\n",
      "            \"bw\": 1544,\n",
      "            \"dly\": 20000,\n",
      "            \"mtu\": 1500,\n",
      "            \"rly\": 1.0,\n",
      "            \"tld\": 0.004,\n",
      "            \"rld\": 0.004,\n",
      "            \"cost\": 482017.5\n",
      "        },\n",
      "        \"Loopback0\": {\n",
      "            \"ip\": \"192.168.1.1\",\n",
      "            \"bw\": 8000000,\n",
      "            \"dly\": 5000,\n",
      "            \"mtu\": 1514,\n",
      "            \"rly\": 1.0,\n",
      "            \"tld\": 0.004,\n",
      "            \"rld\": 0.004,\n",
      "            \"cost\": 624375000.0\n",
      "        }\n",
      "    }\n",
      "}\n"
     ]
    }
   ],
   "source": [
    "import json\n",
    "print(json.dumps(gen_router_metadata(ro_list[0]), indent=4))"
   ]
  },
  {
   "cell_type": "markdown",
   "metadata": {},
   "source": [
    "### Verify for all router objects"
   ]
  },
  {
   "cell_type": "code",
   "execution_count": 516,
   "metadata": {},
   "outputs": [],
   "source": [
    "def Menifest_Collector(ro_List, output):\n",
    "    for ro_idx in range(len(ro_list)):\n",
    "        print(f'Fetching {ro_idx + 1}/{len(ro_list)}...')\n",
    "        if output:\n",
    "            print(json.dumps(gen_router_metadata(ro_list[ro_idx]), indent=4))\n",
    "        else:\n",
    "            gen_router_metadata(ro_list[ro_idx])\n",
    "            print('Fetched Successfully...')\n",
    "        print('\\n\\n')"
   ]
  },
  {
   "cell_type": "code",
   "execution_count": 517,
   "metadata": {},
   "outputs": [
    {
     "name": "stdout",
     "output_type": "stream",
     "text": [
      "Fetching 1/3...\n",
      "{\n",
      "    \"host\": \"R1\",\n",
      "    \"model\": \"3660\",\n",
      "    \"util\": {\n",
      "        \"cpu\": 2.0,\n",
      "        \"mem\": 0.19\n",
      "    },\n",
      "    \"intf\": {\n",
      "        \"FastEthernet0/0\": {\n",
      "            \"ip\": \"192.168.182.140\",\n",
      "            \"bw\": 100000,\n",
      "            \"dly\": 100,\n",
      "            \"mtu\": 1500,\n",
      "            \"rly\": 1.0,\n",
      "            \"tld\": 0.004,\n",
      "            \"rld\": 0.004,\n",
      "            \"cost\": 156093.75\n",
      "        },\n",
      "        \"Serial1/0\": {\n",
      "            \"ip\": \"12.0.0.1\",\n",
      "            \"bw\": 1544,\n",
      "            \"dly\": 20000,\n",
      "            \"mtu\": 1500,\n",
      "            \"rly\": 1.0,\n",
      "            \"tld\": 0.004,\n",
      "            \"rld\": 0.004,\n",
      "            \"cost\": 482017.5\n",
      "        },\n",
      "        \"Serial1/1\": {\n",
      "            \"ip\": \"13.0.0.1\",\n",
      "            \"bw\": 1544,\n",
      "            \"dly\": 20000,\n",
      "            \"mtu\": 1500,\n",
      "            \"rly\": 1.0,\n",
      "            \"tld\": 0.004,\n",
      "            \"rld\": 0.004,\n",
      "            \"cost\": 482017.5\n",
      "        },\n",
      "        \"Loopback0\": {\n",
      "            \"ip\": \"192.168.1.1\",\n",
      "            \"bw\": 8000000,\n",
      "            \"dly\": 5000,\n",
      "            \"mtu\": 1514,\n",
      "            \"rly\": 1.0,\n",
      "            \"tld\": 0.004,\n",
      "            \"rld\": 0.004,\n",
      "            \"cost\": 624375000.0\n",
      "        }\n",
      "    }\n",
      "}\n",
      "\n",
      "\n",
      "\n",
      "Fetching 2/3...\n",
      "{\n",
      "    \"host\": \"R2\",\n",
      "    \"model\": \"3660\",\n",
      "    \"util\": {\n",
      "        \"cpu\": 1.0,\n",
      "        \"mem\": 0.19\n",
      "    },\n",
      "    \"intf\": {\n",
      "        \"FastEthernet0/0\": {\n",
      "            \"ip\": \"192.168.182.141\",\n",
      "            \"bw\": 100000,\n",
      "            \"dly\": 100,\n",
      "            \"mtu\": 1500,\n",
      "            \"rly\": 1.0,\n",
      "            \"tld\": 0.004,\n",
      "            \"rld\": 0.004,\n",
      "            \"cost\": 156093.75\n",
      "        },\n",
      "        \"Serial1/0\": {\n",
      "            \"ip\": \"12.0.0.2\",\n",
      "            \"bw\": 1544,\n",
      "            \"dly\": 20000,\n",
      "            \"mtu\": 1500,\n",
      "            \"rly\": 1.0,\n",
      "            \"tld\": 0.004,\n",
      "            \"rld\": 0.004,\n",
      "            \"cost\": 482017.5\n",
      "        },\n",
      "        \"Serial1/1\": {\n",
      "            \"ip\": \"23.0.0.1\",\n",
      "            \"bw\": 1544,\n",
      "            \"dly\": 20000,\n",
      "            \"mtu\": 1500,\n",
      "            \"rly\": 1.0,\n",
      "            \"tld\": 0.004,\n",
      "            \"rld\": 0.004,\n",
      "            \"cost\": 482017.5\n",
      "        },\n",
      "        \"Loopback0\": {\n",
      "            \"ip\": \"192.168.2.1\",\n",
      "            \"bw\": 8000000,\n",
      "            \"dly\": 5000,\n",
      "            \"mtu\": 1514,\n",
      "            \"rly\": 1.0,\n",
      "            \"tld\": 0.004,\n",
      "            \"rld\": 0.004,\n",
      "            \"cost\": 624375000.0\n",
      "        }\n",
      "    }\n",
      "}\n",
      "\n",
      "\n",
      "\n",
      "Fetching 3/3...\n",
      "{\n",
      "    \"host\": \"R3\",\n",
      "    \"model\": \"3660\",\n",
      "    \"util\": {\n",
      "        \"cpu\": 1.0,\n",
      "        \"mem\": 0.19\n",
      "    },\n",
      "    \"intf\": {\n",
      "        \"FastEthernet0/0\": {\n",
      "            \"ip\": \"192.168.182.142\",\n",
      "            \"bw\": 100000,\n",
      "            \"dly\": 100,\n",
      "            \"mtu\": 1500,\n",
      "            \"rly\": 1.0,\n",
      "            \"tld\": 0.004,\n",
      "            \"rld\": 0.004,\n",
      "            \"cost\": 156093.75\n",
      "        },\n",
      "        \"Serial1/0\": {\n",
      "            \"ip\": \"23.0.0.2\",\n",
      "            \"bw\": 1544,\n",
      "            \"dly\": 20000,\n",
      "            \"mtu\": 1500,\n",
      "            \"rly\": 1.0,\n",
      "            \"tld\": 0.004,\n",
      "            \"rld\": 0.004,\n",
      "            \"cost\": 482017.5\n",
      "        },\n",
      "        \"Serial1/1\": {\n",
      "            \"ip\": \"13.0.0.2\",\n",
      "            \"bw\": 1544,\n",
      "            \"dly\": 20000,\n",
      "            \"mtu\": 1500,\n",
      "            \"rly\": 1.0,\n",
      "            \"tld\": 0.004,\n",
      "            \"rld\": 0.004,\n",
      "            \"cost\": 482017.5\n",
      "        },\n",
      "        \"Loopback0\": {\n",
      "            \"ip\": \"192.168.3.1\",\n",
      "            \"bw\": 8000000,\n",
      "            \"dly\": 5000,\n",
      "            \"mtu\": 1514,\n",
      "            \"rly\": 1.0,\n",
      "            \"tld\": 0.004,\n",
      "            \"rld\": 0.004,\n",
      "            \"cost\": 624375000.0\n",
      "        }\n",
      "    }\n",
      "}\n",
      "\n",
      "\n",
      "\n"
     ]
    }
   ],
   "source": [
    "Menifest_Collector(ro_list, output=True)"
   ]
  },
  {
   "cell_type": "markdown",
   "metadata": {},
   "source": [
    "### A multithreaded Menifest Collector "
   ]
  },
  {
   "cell_type": "code",
   "execution_count": 506,
   "metadata": {},
   "outputs": [],
   "source": [
    "# the global dataset\n",
    "dataset = pd.DataFrame() #(columns=['timestamp', 'hostname', 'cpu', 'mem'])"
   ]
  },
  {
   "cell_type": "code",
   "execution_count": 518,
   "metadata": {},
   "outputs": [],
   "source": [
    "import threading\n",
    "import pandas as pd\n",
    "p_lock = threading.Lock()\n",
    "\n",
    "def gen_TSeries(menifest):\n",
    "    global dataset\n",
    "    #print(time.time(),menifest['host'],menifest['util']['cpu'],menifest['util']['mem'])\n",
    "    \n",
    "    fixed_col = ['timestamp', 'hostname', 'cpu', 'mem']\n",
    "    cost_list=[]\n",
    "    \n",
    "    for intf in menifest['intf'].keys():\n",
    "        cost_list.append(menifest['intf'][intf]['cost'])\n",
    "        \n",
    "    entry =[int(time.time()),\n",
    "            menifest['host'],\n",
    "            menifest['util']['cpu'],\n",
    "            menifest['util']['mem']  \n",
    "            ]+cost_list\n",
    "    \n",
    "    mergd_cols = fixed_col + list(menifest['intf'].keys())\n",
    "    #print(mergd_cols)\n",
    "    \n",
    "    row = pd.DataFrame([entry], columns = mergd_cols)\n",
    "    #print(row)\n",
    "        \n",
    "    with p_lock:\n",
    "        dataset = dataset.append(row,ignore_index='True')  #merging two lists \n",
    "        \n",
    "        \n",
    "def collector_daemon(ro,output):\n",
    "    print('fetching...')\n",
    "    menifest=gen_router_metadata(ro)\n",
    "    if output:\n",
    "        print(json.dumps(menifest, indent=4))\n",
    "    else:\n",
    "        print('\\nSuccesully Feched!')\n",
    "    gen_TSeries(menifest)\n",
    "    \n",
    "\n",
    "def Menifest_Collector_MT(ro_list, output):\n",
    "    th_list=[]\n",
    "\n",
    "    for ro in ro_list:\n",
    "        th_list.append(threading.Thread(target=collector_daemon, args=(ro,output,)))\n",
    "    for th in th_list:\n",
    "        th.start()\n",
    "    for th in th_list:\n",
    "        th.join()"
   ]
  },
  {
   "cell_type": "code",
   "execution_count": 519,
   "metadata": {},
   "outputs": [
    {
     "name": "stdout",
     "output_type": "stream",
     "text": [
      "fetching...\n",
      "fetching...\n",
      "fetching...\n",
      "\n",
      "Succesully Feched!\n",
      "\n",
      "Succesully Feched!\n",
      "\n",
      "Succesully Feched!\n"
     ]
    }
   ],
   "source": [
    "Menifest_Collector_MT(ro_list,output=False)"
   ]
  },
  {
   "cell_type": "markdown",
   "metadata": {},
   "source": [
    "### Compairing Execution time"
   ]
  },
  {
   "cell_type": "code",
   "execution_count": 216,
   "metadata": {},
   "outputs": [
    {
     "name": "stdout",
     "output_type": "stream",
     "text": [
      "Fetching 1/3...\n",
      "Fetched Successfully...\n",
      "\n",
      "\n",
      "\n",
      "Fetching 2/3...\n",
      "Fetched Successfully...\n",
      "\n",
      "\n",
      "\n",
      "Fetching 3/3...\n",
      "Fetched Successfully...\n",
      "\n",
      "\n",
      "\n",
      "\n",
      "time taken : 29.137 sec.\n",
      "-----------------------------------------------\n",
      "fetching...\n",
      "fetching...\n",
      "fetching...\n",
      "\n",
      "Succesully Feched!\n",
      "\n",
      "Succesully Feched!\n",
      "Succesully Feched!\n",
      "\n",
      "\n",
      "time taken : 9.91 sec\n"
     ]
    }
   ],
   "source": [
    "t=time.time()\n",
    "Menifest_Collector(ro_list,output=False)\n",
    "print(f'\\ntime taken : {round(time.time() - t,3)} sec.')\n",
    "print('-----------------------------------------------')\n",
    "t=time.time()\n",
    "Menifest_Collector_MT(ro_list,output=False)\n",
    "print(f'\\ntime taken : {round(time.time() - t,3)} sec.')"
   ]
  },
  {
   "cell_type": "markdown",
   "metadata": {},
   "source": [
    "## Time Series Generator from Menifst Collector "
   ]
  },
  {
   "cell_type": "code",
   "execution_count": 521,
   "metadata": {},
   "outputs": [
    {
     "name": "stdout",
     "output_type": "stream",
     "text": [
      "fetching...\n",
      "fetching...\n",
      "fetching...\n",
      "\n",
      "Succesully Feched!\n",
      "\n",
      "Succesully Feched!\n",
      "\n",
      "Succesully Feched!\n",
      "iter...\n",
      "fetching...\n",
      "fetching...\n",
      "fetching...\n",
      "\n",
      "Succesully Feched!\n",
      "Succesully Feched!\n",
      "\n",
      "\n",
      "Succesully Feched!\n",
      "iter...\n",
      "fetching...\n",
      "fetching...\n",
      "fetching...\n",
      "\n",
      "Succesully Feched!\n",
      "\n",
      "Succesully Feched!\n",
      "\n",
      "Succesully Feched!\n",
      "iter...\n",
      "fetching...\n",
      "fetching...\n",
      "fetching...\n",
      "\n",
      "Succesully Feched!\n"
     ]
    },
    {
     "ename": "KeyboardInterrupt",
     "evalue": "",
     "output_type": "error",
     "traceback": [
      "\u001b[1;31m---------------------------------------------------------------------------\u001b[0m",
      "\u001b[1;31mKeyboardInterrupt\u001b[0m                         Traceback (most recent call last)",
      "\u001b[1;32m<ipython-input-521-b157fa153f74>\u001b[0m in \u001b[0;36m<module>\u001b[1;34m\u001b[0m\n\u001b[0;32m      1\u001b[0m \u001b[1;32mfor\u001b[0m \u001b[0mi\u001b[0m \u001b[1;32min\u001b[0m \u001b[0mrange\u001b[0m\u001b[1;33m(\u001b[0m\u001b[1;36m15\u001b[0m\u001b[1;33m)\u001b[0m\u001b[1;33m:\u001b[0m\u001b[1;33m\u001b[0m\u001b[1;33m\u001b[0m\u001b[0m\n\u001b[1;32m----> 2\u001b[1;33m     \u001b[0mMenifest_Collector_MT\u001b[0m\u001b[1;33m(\u001b[0m\u001b[0mro_list\u001b[0m\u001b[1;33m,\u001b[0m\u001b[0moutput\u001b[0m\u001b[1;33m=\u001b[0m\u001b[1;32mFalse\u001b[0m\u001b[1;33m)\u001b[0m\u001b[1;33m\u001b[0m\u001b[1;33m\u001b[0m\u001b[0m\n\u001b[0m\u001b[0;32m      3\u001b[0m     \u001b[0mprint\u001b[0m\u001b[1;33m(\u001b[0m\u001b[1;34m'iter...'\u001b[0m\u001b[1;33m)\u001b[0m\u001b[1;33m\u001b[0m\u001b[1;33m\u001b[0m\u001b[0m\n\u001b[0;32m      4\u001b[0m     \u001b[1;31m#print(dataset)\u001b[0m\u001b[1;33m\u001b[0m\u001b[1;33m\u001b[0m\u001b[1;33m\u001b[0m\u001b[0m\n\u001b[0;32m      5\u001b[0m     \u001b[0mtime\u001b[0m\u001b[1;33m.\u001b[0m\u001b[0msleep\u001b[0m\u001b[1;33m(\u001b[0m\u001b[1;36m1\u001b[0m\u001b[1;33m)\u001b[0m\u001b[1;33m\u001b[0m\u001b[1;33m\u001b[0m\u001b[0m\n",
      "\u001b[1;32m<ipython-input-518-2a4ce4844fc4>\u001b[0m in \u001b[0;36mMenifest_Collector_MT\u001b[1;34m(ro_list, output)\u001b[0m\n\u001b[0;32m     47\u001b[0m         \u001b[0mth\u001b[0m\u001b[1;33m.\u001b[0m\u001b[0mstart\u001b[0m\u001b[1;33m(\u001b[0m\u001b[1;33m)\u001b[0m\u001b[1;33m\u001b[0m\u001b[1;33m\u001b[0m\u001b[0m\n\u001b[0;32m     48\u001b[0m     \u001b[1;32mfor\u001b[0m \u001b[0mth\u001b[0m \u001b[1;32min\u001b[0m \u001b[0mth_list\u001b[0m\u001b[1;33m:\u001b[0m\u001b[1;33m\u001b[0m\u001b[1;33m\u001b[0m\u001b[0m\n\u001b[1;32m---> 49\u001b[1;33m         \u001b[0mth\u001b[0m\u001b[1;33m.\u001b[0m\u001b[0mjoin\u001b[0m\u001b[1;33m(\u001b[0m\u001b[1;33m)\u001b[0m\u001b[1;33m\u001b[0m\u001b[1;33m\u001b[0m\u001b[0m\n\u001b[0m",
      "\u001b[1;32m~\\Anaconda3\\lib\\threading.py\u001b[0m in \u001b[0;36mjoin\u001b[1;34m(self, timeout)\u001b[0m\n\u001b[0;32m   1030\u001b[0m \u001b[1;33m\u001b[0m\u001b[0m\n\u001b[0;32m   1031\u001b[0m         \u001b[1;32mif\u001b[0m \u001b[0mtimeout\u001b[0m \u001b[1;32mis\u001b[0m \u001b[1;32mNone\u001b[0m\u001b[1;33m:\u001b[0m\u001b[1;33m\u001b[0m\u001b[1;33m\u001b[0m\u001b[0m\n\u001b[1;32m-> 1032\u001b[1;33m             \u001b[0mself\u001b[0m\u001b[1;33m.\u001b[0m\u001b[0m_wait_for_tstate_lock\u001b[0m\u001b[1;33m(\u001b[0m\u001b[1;33m)\u001b[0m\u001b[1;33m\u001b[0m\u001b[1;33m\u001b[0m\u001b[0m\n\u001b[0m\u001b[0;32m   1033\u001b[0m         \u001b[1;32melse\u001b[0m\u001b[1;33m:\u001b[0m\u001b[1;33m\u001b[0m\u001b[1;33m\u001b[0m\u001b[0m\n\u001b[0;32m   1034\u001b[0m             \u001b[1;31m# the behavior of a negative timeout isn't documented, but\u001b[0m\u001b[1;33m\u001b[0m\u001b[1;33m\u001b[0m\u001b[1;33m\u001b[0m\u001b[0m\n",
      "\u001b[1;32m~\\Anaconda3\\lib\\threading.py\u001b[0m in \u001b[0;36m_wait_for_tstate_lock\u001b[1;34m(self, block, timeout)\u001b[0m\n\u001b[0;32m   1046\u001b[0m         \u001b[1;32mif\u001b[0m \u001b[0mlock\u001b[0m \u001b[1;32mis\u001b[0m \u001b[1;32mNone\u001b[0m\u001b[1;33m:\u001b[0m  \u001b[1;31m# already determined that the C code is done\u001b[0m\u001b[1;33m\u001b[0m\u001b[1;33m\u001b[0m\u001b[0m\n\u001b[0;32m   1047\u001b[0m             \u001b[1;32massert\u001b[0m \u001b[0mself\u001b[0m\u001b[1;33m.\u001b[0m\u001b[0m_is_stopped\u001b[0m\u001b[1;33m\u001b[0m\u001b[1;33m\u001b[0m\u001b[0m\n\u001b[1;32m-> 1048\u001b[1;33m         \u001b[1;32melif\u001b[0m \u001b[0mlock\u001b[0m\u001b[1;33m.\u001b[0m\u001b[0macquire\u001b[0m\u001b[1;33m(\u001b[0m\u001b[0mblock\u001b[0m\u001b[1;33m,\u001b[0m \u001b[0mtimeout\u001b[0m\u001b[1;33m)\u001b[0m\u001b[1;33m:\u001b[0m\u001b[1;33m\u001b[0m\u001b[1;33m\u001b[0m\u001b[0m\n\u001b[0m\u001b[0;32m   1049\u001b[0m             \u001b[0mlock\u001b[0m\u001b[1;33m.\u001b[0m\u001b[0mrelease\u001b[0m\u001b[1;33m(\u001b[0m\u001b[1;33m)\u001b[0m\u001b[1;33m\u001b[0m\u001b[1;33m\u001b[0m\u001b[0m\n\u001b[0;32m   1050\u001b[0m             \u001b[0mself\u001b[0m\u001b[1;33m.\u001b[0m\u001b[0m_stop\u001b[0m\u001b[1;33m(\u001b[0m\u001b[1;33m)\u001b[0m\u001b[1;33m\u001b[0m\u001b[1;33m\u001b[0m\u001b[0m\n",
      "\u001b[1;31mKeyboardInterrupt\u001b[0m: "
     ]
    }
   ],
   "source": [
    "for i in range(15):\n",
    "    Menifest_Collector_MT(ro_list,output=False)\n",
    "    print('iter...')\n",
    "    #print(dataset)\n",
    "    time.sleep(1)"
   ]
  },
  {
   "cell_type": "markdown",
   "metadata": {},
   "source": [
    "### Seperate attributes based on hostname "
   ]
  },
  {
   "cell_type": "markdown",
   "metadata": {},
   "source": [
    "__Find Distinct Router names__"
   ]
  },
  {
   "cell_type": "code",
   "execution_count": 486,
   "metadata": {},
   "outputs": [
    {
     "data": {
      "text/plain": [
       "['R2', 'R1', 'R3']"
      ]
     },
     "execution_count": 486,
     "metadata": {},
     "output_type": "execute_result"
    }
   ],
   "source": [
    "list(dataset['hostname'].unique())"
   ]
  },
  {
   "cell_type": "markdown",
   "metadata": {},
   "source": [
    "__segment dataset for each routers__"
   ]
  },
  {
   "cell_type": "code",
   "execution_count": 510,
   "metadata": {},
   "outputs": [
    {
     "name": "stdout",
     "output_type": "stream",
     "text": [
      "\n",
      " hostname : R3\n",
      "    timestamp hostname  cpu   mem  FastEthernet0/0  Serial1/0  Serial1/1  \\\n",
      "0  1564255081       R3  2.0  0.19        156093.75   482017.5   482017.5   \n",
      "4  1564255466       R3  3.0  0.19        156093.75   482017.5   482017.5   \n",
      "8  1564255477       R3  3.0  0.19        156093.75   482017.5   482017.5   \n",
      "\n",
      "     Loopback0  \n",
      "0  624375000.0  \n",
      "4  624375000.0  \n",
      "8  624375000.0  \n",
      "\n",
      " hostname : R1\n",
      "    timestamp hostname  cpu   mem  FastEthernet0/0  Serial1/0  Serial1/1  \\\n",
      "1  1564255081       R1  2.0  0.19        156093.75   482017.5   482017.5   \n",
      "5  1564255466       R1  3.0  0.19        156093.75   482017.5   482017.5   \n",
      "7  1564255477       R1  4.0  0.19        156093.75   482017.5   482017.5   \n",
      "\n",
      "     Loopback0  \n",
      "1  624375000.0  \n",
      "5  624375000.0  \n",
      "7  624375000.0  \n",
      "\n",
      " hostname : R2\n",
      "    timestamp hostname  cpu   mem  FastEthernet0/0  Serial1/0  Serial1/1  \\\n",
      "2  1564255081       R2  2.0  0.19        156093.75   482017.5   482017.5   \n",
      "3  1564255466       R2  3.0  0.19        156093.75   482017.5   482017.5   \n",
      "6  1564255477       R2  3.0  0.19        156093.75   482017.5   482017.5   \n",
      "\n",
      "     Loopback0  \n",
      "2  624375000.0  \n",
      "3  624375000.0  \n",
      "6  624375000.0  \n"
     ]
    }
   ],
   "source": [
    "for host in list(dataset['hostname'].unique()):\n",
    "    print(f'\\n hostname : {host}')\n",
    "    print(dataset.loc[dataset['hostname'] == host])"
   ]
  },
  {
   "cell_type": "markdown",
   "metadata": {},
   "source": [
    "__Covert into Router specific structure to plot__"
   ]
  },
  {
   "cell_type": "code",
   "execution_count": 495,
   "metadata": {},
   "outputs": [
    {
     "data": {
      "text/plain": [
       "{'R2': {'cpu': [2.0, 2.0, 3.0], 'mem': [0.19, 0.19, 0.19]},\n",
       " 'R1': {'cpu': [2.0, 3.0, 3.0], 'mem': [0.19, 0.19, 0.19]},\n",
       " 'R3': {'cpu': [2.0, 3.0, 3.0], 'mem': [0.19, 0.19, 0.19]}}"
      ]
     },
     "execution_count": 495,
     "metadata": {},
     "output_type": "execute_result"
    }
   ],
   "source": [
    "ro_tseries={}\n",
    "\n",
    "for host in list(dataset['hostname'].unique()):\n",
    "    ro_tseries[host]={'cpu':[] , 'mem':[]}\n",
    "    \n",
    "for host in list(dataset['hostname'].unique()):\n",
    "    ro_tseries[host]['cpu']=dataset.loc[dataset['hostname'] == host]['cpu'].tolist()\n",
    "    ro_tseries[host]['mem']=dataset.loc[dataset['hostname'] == host]['mem'].tolist()\n",
    "\n",
    "ro_tseries"
   ]
  },
  {
   "cell_type": "code",
   "execution_count": 496,
   "metadata": {},
   "outputs": [
    {
     "data": {
      "image/png": "[encoded data removed]",
      "text/plain": [
       "<Figure size 432x288 with 1 Axes>"
      ]
     },
     "metadata": {
      "needs_background": "light"
     },
     "output_type": "display_data"
    }
   ],
   "source": [
    "import matplotlib.pyplot as plt\n",
    "import numpy as np\n",
    "\n",
    "for host in ro_tseries.keys():\n",
    "    y_cpu=ro_tseries[host]['cpu']\n",
    "    y_mem=ro_tseries[host]['mem']\n",
    "    x=np.arange(len(y_cpu))\n",
    "    plt.scatter(x,y_cpu)\n",
    "    plt.scatter(x,y_mem)\n",
    "    \n",
    "    plt.plot(x,y_cpu,':',label=host+'_CPU%')\n",
    "    plt.plot(x,y_mem,':',label=host+'_Mem%')\n",
    "\n",
    "plt.grid(True)\n",
    "plt.legend()\n",
    "plt.show()"
   ]
  },
  {
   "cell_type": "code",
   "execution_count": 497,
   "metadata": {},
   "outputs": [
    {
     "data": {
      "image/png": "[encoded data removed]",
      "text/plain": [
       "<Figure size 432x288 with 1 Axes>"
      ]
     },
     "metadata": {
      "needs_background": "light"
     },
     "output_type": "display_data"
    }
   ],
   "source": [
    "def plot_me():\n",
    "    ro_tseries={}\n",
    "\n",
    "    for host in list(dataset['hostname'].unique()):\n",
    "        ro_tseries[host]={'cpu':[] , 'mem':[]}\n",
    "\n",
    "    for host in list(dataset['hostname'].unique()):\n",
    "        ro_tseries[host]['cpu']=dataset.loc[dataset['hostname'] == host]['cpu'].tolist()\n",
    "        ro_tseries[host]['mem']=dataset.loc[dataset['hostname'] == host]['mem'].tolist()\n",
    "\n",
    "    for host in ro_tseries.keys():\n",
    "        y_cpu=ro_tseries[host]['cpu']\n",
    "        y_mem=ro_tseries[host]['mem']\n",
    "        x=np.arange(len(y_cpu))\n",
    "        plt.scatter(x,y_cpu)\n",
    "        plt.scatter(x,y_mem)\n",
    "\n",
    "        plt.plot(x,y_cpu,':',label=host+'_CPU%')\n",
    "        plt.plot(x,y_mem,':',label=host+'_Mem%')\n",
    "\n",
    "    plt.grid(True)\n",
    "    plt.legend()\n",
    "    plt.show()\n",
    "\n",
    "plot_me()"
   ]
  },
  {
   "cell_type": "markdown",
   "metadata": {},
   "source": [
    "# Prediction with Machine Learning Models"
   ]
  },
  {
   "cell_type": "markdown",
   "metadata": {},
   "source": [
    "## Dataset "
   ]
  },
  {
   "cell_type": "code",
   "execution_count": 493,
   "metadata": {},
   "outputs": [],
   "source": [
    "ds_list=[]\n",
    "for host in list(dataset['hostname'].unique()):\n",
    "    ds_list.append(dataset.loc[dataset['hostname'] == host])"
   ]
  },
  {
   "cell_type": "code",
   "execution_count": 494,
   "metadata": {},
   "outputs": [
    {
     "name": "stdout",
     "output_type": "stream",
     "text": [
      "\n",
      "\n",
      "    timestamp hostname  cpu   mem  FastEthernet0/0  Serial1/0  Serial1/1  \\\n",
      "0  1564254356       R2  2.0  0.19        156093.75   482017.5   482017.5   \n",
      "4  1564254370       R2  2.0  0.19        156093.75   482017.5   482017.5   \n",
      "6  1564254381       R2  3.0  0.19        156093.75   482017.5   482017.5   \n",
      "\n",
      "     Loopback0  \n",
      "0  624375000.0  \n",
      "4  624375000.0  \n",
      "6  624375000.0  \n",
      "\n",
      "\n",
      "    timestamp hostname  cpu   mem  FastEthernet0/0  Serial1/0  Serial1/1  \\\n",
      "1  1564254356       R1  2.0  0.19        156093.75   482017.5   482017.5   \n",
      "3  1564254370       R1  3.0  0.19        156093.75   482017.5   482017.5   \n",
      "7  1564254381       R1  3.0  0.19        156093.75   482017.5   482017.5   \n",
      "\n",
      "     Loopback0  \n",
      "1  624375000.0  \n",
      "3  624375000.0  \n",
      "7  624375000.0  \n",
      "\n",
      "\n",
      "    timestamp hostname  cpu   mem  FastEthernet0/0  Serial1/0  Serial1/1  \\\n",
      "2  1564254356       R3  2.0  0.19        156093.75   482017.5   482017.5   \n",
      "5  1564254370       R3  3.0  0.19        156093.75   482017.5   482017.5   \n",
      "8  1564254381       R3  3.0  0.19        156093.75   482017.5   482017.5   \n",
      "\n",
      "     Loopback0  \n",
      "2  624375000.0  \n",
      "5  624375000.0  \n",
      "8  624375000.0  \n"
     ]
    }
   ],
   "source": [
    "for ds in ds_list:\n",
    "    print('\\n')\n",
    "    print(ds)"
   ]
  },
  {
   "cell_type": "code",
   "execution_count": null,
   "metadata": {},
   "outputs": [],
   "source": []
  }
 ],
 "metadata": {
  "kernelspec": {
   "display_name": "Python 3",
   "language": "python",
   "name": "python3"
  },
  "language_info": {
   "codemirror_mode": {
    "name": "ipython",
    "version": 3
   },
   "file_extension": ".py",
   "mimetype": "text/x-python",
   "name": "python",
   "nbconvert_exporter": "python",
   "pygments_lexer": "ipython3",
   "version": "3.7.3"
  }
 },
 "nbformat": 4,
 "nbformat_minor": 2
}
