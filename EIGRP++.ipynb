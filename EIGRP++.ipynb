{
 "cells": [
  {
   "cell_type": "markdown",
   "metadata": {},
   "source": [
    "# Initial Setup\n",
    "\n",
    "## reference topology \n",
    "<img src='ref_topo.png'>"
   ]
  },
  {
   "cell_type": "markdown",
   "metadata": {},
   "source": [
    "## EIGRP Configuration\n",
    "\n",
    "__Router 1__ <br>\n",
    "` conf t \n",
    "  int f0/0\n",
    "  ip address 12.0.0.1 255.255.255.252\n",
    "  no shutdown\n",
    "  int f0/1\n",
    "  ip address 13.0.0.1 255.255.255.252\n",
    "  no sh\n",
    "  int lo1\n",
    "  ip address 192.168.1.1 255.255.255.255\n",
    "  exit\n",
    "  router eigrp 100\n",
    "  no auto-summary\n",
    "  network 0.0.0.0\n",
    "  do wr\n",
    "  `\n",
    "  \n",
    "__Router 2__ <br>\n",
    "` conf t\n",
    "  int f0/0\n",
    "  ip address 12.0.0.2 255.255.255.252\n",
    "  no shutdown\n",
    "  int f0/1\n",
    "  ip address 23.0.0.1 255.255.255.252\n",
    "  no sh\n",
    "  int lo1\n",
    "  ip address 192.168.2.1 255.255.255.255\n",
    "  exit\n",
    "  router eigrp 100\n",
    "  no auto-summary\n",
    "  network 0.0.0.0\n",
    "  do wr\n",
    "  `\n",
    "  \n",
    "__Router 3__ <br>\n",
    "` conf t\n",
    "  int f0/0\n",
    "  ip address 13.0.0.2 255.255.255.252\n",
    "  no shutdown\n",
    "  int f0/1\n",
    "  ip address 23.0.0.2 255.255.255.252\n",
    "  no sh\n",
    "  exit\n",
    "  int lo1\n",
    "  ip address 192.168.3.1 255.255.255.255\n",
    "  router eigrp 100\n",
    "  no auto-summary\n",
    "  network 0.0.0.0\n",
    "  do wr\n",
    "  `"
   ]
  },
  {
   "cell_type": "markdown",
   "metadata": {},
   "source": [
    "## Activating SSH\n",
    "\n",
    "* make a NAT cloud connection through f1/0 interface\n",
    "* interface address from DHCP\n",
    "* interface is passive \n",
    "* login credential : rishi / password\n",
    "* key len : 1024\n",
    "\n",
    "<img src='ref_topo_ssh.png'>\n",
    "\n",
    "` conf t\n",
    "  int f1/0\n",
    "  ip address dhcp\n",
    "  no sh\n",
    "  exit\n",
    "  router eigrp 100\n",
    "  passive interface f1/0\n",
    "  exit\n",
    "  ip domain name lsbu.ac.uk\n",
    "  ip ssh version 2\n",
    "  username rishi password password\n",
    "  crypto key generate rsa mod 1024\n",
    "  line vty 0 15\n",
    "  login local\n",
    "  transport input ssh\n",
    "  transport output ssh\n",
    "  exit\n",
    "  do wr\n",
    "  `"
   ]
  },
  {
   "cell_type": "markdown",
   "metadata": {},
   "source": [
    "## setting up NAPALM"
   ]
  },
  {
   "cell_type": "markdown",
   "metadata": {},
   "source": [
    "__installing NAPALM__ <br>\n",
    "`\n",
    "sudo apt -y update \n",
    "sudo apt -y install python3 build-essential libssl-dev libffidev python-pip \n",
    "sudo python3.6 -m pip install --upgrade pip\n",
    "sudo python3.6 -m pip install cryptography netmiko napalm\n",
    "`"
   ]
  },
  {
   "cell_type": "code",
   "execution_count": 1,
   "metadata": {},
   "outputs": [],
   "source": [
    "import napalm as nm"
   ]
  },
  {
   "cell_type": "markdown",
   "metadata": {},
   "source": [
    "## fetching data from Routers\n",
    "\n",
    "if `init_conn()` stuggles to eshtablish connection, use the following commands to the routers<br>\n",
    "\n",
    "`\n",
    "conf t\n",
    "ip ssh ver 2\n",
    "crypto key gen rsa mod 1024\n",
    "`<br>\n",
    "this will generate a new key pair and (re)start ssh2 server"
   ]
  },
  {
   "cell_type": "code",
   "execution_count": 3,
   "metadata": {},
   "outputs": [],
   "source": [
    "# specify the network device \n",
    "\n",
    "c_driver=nm.get_network_driver('ios')\n",
    "router_ip_list=['192.168.182.131','192.168.182.134','192.168.182.135']\n",
    "credentials=['rishi','password','lsbu']   #[un, pw, sec]"
   ]
  },
  {
   "cell_type": "code",
   "execution_count": 4,
   "metadata": {},
   "outputs": [
    {
     "name": "stdout",
     "output_type": "stream",
     "text": [
      "connection 1 Successful! \n",
      "connection 2 Successful! \n",
      "connection 3 Successful! \n"
     ]
    }
   ],
   "source": [
    "# make connection to devices\n",
    "def init_conn(c_driver, router_ip_list, credentials):\n",
    "    router_obj_list=[]\n",
    "    for i in range(len(router_ip_list)):\n",
    "        router_obj_list.append(c_driver(hostname=router_ip_list[i],\n",
    "                                 username=credentials[0],\n",
    "                                 password=credentials[1],\n",
    "                                 optional_args={'secret':'lsbu'}\n",
    "                               ))\n",
    "        try:\n",
    "            router_obj_list[-1].open()\n",
    "            print(f'connection {i+1} Successful! ')\n",
    "        except Exception as e:\n",
    "            print(e)\n",
    "            print(f'connection {i+1} Failed')\n",
    "            \n",
    "    return router_obj_list\n",
    "\n",
    "r_obj_list=init_conn(c_driver, router_ip_list, credentials)"
   ]
  },
  {
   "cell_type": "code",
   "execution_count": 5,
   "metadata": {},
   "outputs": [],
   "source": [
    "import pandas as pd\n",
    "import json as js"
   ]
  },
  {
   "cell_type": "code",
   "execution_count": 6,
   "metadata": {},
   "outputs": [
    {
     "data": {
      "text/html": [
       "<div>\n",
       "<style scoped>\n",
       "    .dataframe tbody tr th:only-of-type {\n",
       "        vertical-align: middle;\n",
       "    }\n",
       "\n",
       "    .dataframe tbody tr th {\n",
       "        vertical-align: top;\n",
       "    }\n",
       "\n",
       "    .dataframe thead th {\n",
       "        text-align: right;\n",
       "    }\n",
       "</style>\n",
       "<table border=\"1\" class=\"dataframe\">\n",
       "  <thead>\n",
       "    <tr style=\"text-align: right;\">\n",
       "      <th></th>\n",
       "      <th>vendor</th>\n",
       "      <th>model</th>\n",
       "      <th>hostname</th>\n",
       "      <th>fqdn</th>\n",
       "    </tr>\n",
       "  </thead>\n",
       "  <tbody>\n",
       "    <tr>\n",
       "      <th>0</th>\n",
       "      <td>Cisco</td>\n",
       "      <td>3660</td>\n",
       "      <td>R1</td>\n",
       "      <td>R1.lsbu.ac.uk</td>\n",
       "    </tr>\n",
       "    <tr>\n",
       "      <th>1</th>\n",
       "      <td>Cisco</td>\n",
       "      <td>3660</td>\n",
       "      <td>R2</td>\n",
       "      <td>R2.lsbu.ac.uk</td>\n",
       "    </tr>\n",
       "    <tr>\n",
       "      <th>2</th>\n",
       "      <td>Cisco</td>\n",
       "      <td>3660</td>\n",
       "      <td>R3</td>\n",
       "      <td>R3.lsbu.ac.uk</td>\n",
       "    </tr>\n",
       "  </tbody>\n",
       "</table>\n",
       "</div>"
      ],
      "text/plain": [
       "  vendor model hostname           fqdn\n",
       "0  Cisco  3660       R1  R1.lsbu.ac.uk\n",
       "1  Cisco  3660       R2  R2.lsbu.ac.uk\n",
       "2  Cisco  3660       R3  R3.lsbu.ac.uk"
      ]
     },
     "execution_count": 6,
     "metadata": {},
     "output_type": "execute_result"
    }
   ],
   "source": [
    "# receive facts of the routers \n",
    "def get_facts(r_obj_list):\n",
    "    r_fact_dict={'vendor':[],\n",
    "               'model':[],\n",
    "               'hostname':[],\n",
    "               'fqdn':[]\n",
    "              }\n",
    "        \n",
    "    for ro in r_obj_list:\n",
    "        temp=ro.get_facts()\n",
    "        r_fact_dict['vendor'].append(temp['vendor'])\n",
    "        r_fact_dict['model'].append(temp['model'])\n",
    "        r_fact_dict['hostname'].append(temp['hostname'])\n",
    "        r_fact_dict['fqdn'].append(temp['fqdn'])\n",
    "    \n",
    "    r_fact_df=pd.DataFrame(r_fact_dict)\n",
    "    \n",
    "    return r_fact_df\n",
    "\n",
    "r_fact_df=get_facts(r_obj_list)\n",
    "\n",
    "r_fact_df"
   ]
  },
  {
   "cell_type": "code",
   "execution_count": 7,
   "metadata": {},
   "outputs": [],
   "source": [
    "def get_int_details(router_obj):\n",
    "    x=router_obj.get_interfaces_ip()\n",
    "    y=r_obj_list[0].get_interfaces()\n",
    "\n",
    "    int_l=list(x)\n",
    "    proto=[]\n",
    "    for i in int_l:\n",
    "        proto.append(list(x[i].keys())[0])\n",
    "    ip=[]\n",
    "    for i in range(len(proto)):\n",
    "        ip.append(list(x[int_l[i]][proto[i]].keys())[0])\n",
    "    cidr=[]\n",
    "    for i in range(len(ip)):\n",
    "        cidr.append(x[int_l[i]][proto[i]][ip[i]]['prefix_length'])\n",
    "    mac=[]\n",
    "    speed=[]\n",
    "    mtu=[]\n",
    "    bw=[]\n",
    "    dly=[]\n",
    "    rly=[]\n",
    "    ld=[]\n",
    "    for i in int_l:\n",
    "        mac.append(y[i]['mac_address'])\n",
    "        speed.append(y[i]['speed'])\n",
    "        \n",
    "        mbd=list(router_obj.cli([f'sh int {i} | inc MTU']).values())[0]\n",
    "        rl=list(router_obj.cli([f'sh int {i} | inc reliability']).values())[0]\n",
    "        \n",
    "        mtu.append(int(mbd.split(' ')[1]))\n",
    "        bw.append(int(mbd.split(' ')[4]))\n",
    "        dly.append(int(mbd.split(' ')[7]))\n",
    "        rly.append(eval(rl.split(' ')[1])[0])\n",
    "        ld.append(round((eval(rl.split(' ')[3].split(',')[0]) + eval(rl.split(' ')[5]))/2,3))\n",
    "    \n",
    "    \n",
    "    return[int_l, proto, ip, cidr, mac, speed, mtu, bw, dly, rly, ld]"
   ]
  },
  {
   "cell_type": "markdown",
   "metadata": {},
   "source": [
    "fetch the interface details of the first router object "
   ]
  },
  {
   "cell_type": "code",
   "execution_count": 8,
   "metadata": {},
   "outputs": [
    {
     "name": "stdout",
     "output_type": "stream",
     "text": [
      "[<napalm.ios.ios.IOSDriver object at 0x0000027DB6AC12B0>, <napalm.ios.ios.IOSDriver object at 0x0000027DB8763BA8>, <napalm.ios.ios.IOSDriver object at 0x0000027DB87829E8>]\n"
     ]
    },
    {
     "data": {
      "text/plain": [
       "[['FastEthernet0/0', 'FastEthernet0/1', 'FastEthernet1/0', 'Loopback1'],\n",
       " ['ipv4', 'ipv4', 'ipv4', 'ipv4'],\n",
       " ['12.0.0.1', '13.0.0.1', '192.168.182.131', '192.168.1.1'],\n",
       " [30, 30, 24, 32],\n",
       " ['CC:01:39:18:00:00', 'CC:01:39:18:00:01', 'CC:01:39:18:00:10', ''],\n",
       " [100, 100, 100, 8000],\n",
       " [1500, 1500, 1500, 1514],\n",
       " [100000, 100000, 100000, 8000000],\n",
       " [100, 100, 100, 5000],\n",
       " [1.0, 1.0, 1.0, 1.0],\n",
       " [0.004, 0.004, 0.004, 0.004]]"
      ]
     },
     "execution_count": 8,
     "metadata": {},
     "output_type": "execute_result"
    }
   ],
   "source": [
    "print(r_obj_list)\n",
    "get_int_details(r_obj_list[0])"
   ]
  },
  {
   "cell_type": "code",
   "execution_count": 10,
   "metadata": {},
   "outputs": [],
   "source": [
    "def get_intf(r_obj_list):\n",
    "    \n",
    "    intf_dict={}\n",
    "    ret=[]\n",
    "    \n",
    "    count=0\n",
    "    for ro in r_obj_list:\n",
    "        intf=get_int_details(ro)\n",
    "        count+=1\n",
    "        print(f'Fetch Successful... {count}/{len(r_obj_list)}')\n",
    "        \n",
    "        intf_dict['interface']=intf[0]\n",
    "        intf_dict['protocol']=intf[1]\n",
    "        intf_dict['IP']=intf[2]\n",
    "        intf_dict['CIDR']=intf[3]\n",
    "        intf_dict['MAC']=intf[4]\n",
    "        intf_dict['speed']=intf[5]\n",
    "        intf_dict['mtu']=intf[6]\n",
    "        intf_dict['BW']=intf[7]\n",
    "        intf_dict['delay']=intf[8]\n",
    "        intf_dict['reliability']=intf[9]\n",
    "        intf_dict['load']=intf[10]\n",
    "        \n",
    "        \n",
    "        ret.append(pd.DataFrame(intf_dict))\n",
    "    \n",
    "    return {'r_name' : r_fact_df['hostname'].tolist() , 'r_details' : ret}"
   ]
  },
  {
   "cell_type": "markdown",
   "metadata": {},
   "source": [
    "Test for all routers"
   ]
  },
  {
   "cell_type": "code",
   "execution_count": 11,
   "metadata": {},
   "outputs": [
    {
     "name": "stdout",
     "output_type": "stream",
     "text": [
      "Fetch Successful... 1/3\n",
      "Fetch Successful... 2/3\n",
      "Fetch Successful... 3/3\n"
     ]
    },
    {
     "data": {
      "text/html": [
       "<div>\n",
       "<style scoped>\n",
       "    .dataframe tbody tr th:only-of-type {\n",
       "        vertical-align: middle;\n",
       "    }\n",
       "\n",
       "    .dataframe tbody tr th {\n",
       "        vertical-align: top;\n",
       "    }\n",
       "\n",
       "    .dataframe thead th {\n",
       "        text-align: right;\n",
       "    }\n",
       "</style>\n",
       "<table border=\"1\" class=\"dataframe\">\n",
       "  <thead>\n",
       "    <tr style=\"text-align: right;\">\n",
       "      <th></th>\n",
       "      <th>interface</th>\n",
       "      <th>protocol</th>\n",
       "      <th>IP</th>\n",
       "      <th>CIDR</th>\n",
       "      <th>MAC</th>\n",
       "      <th>speed</th>\n",
       "      <th>mtu</th>\n",
       "      <th>BW</th>\n",
       "      <th>delay</th>\n",
       "      <th>reliability</th>\n",
       "      <th>load</th>\n",
       "    </tr>\n",
       "  </thead>\n",
       "  <tbody>\n",
       "    <tr>\n",
       "      <th>0</th>\n",
       "      <td>FastEthernet0/0</td>\n",
       "      <td>ipv4</td>\n",
       "      <td>12.0.0.1</td>\n",
       "      <td>30</td>\n",
       "      <td>CC:01:39:18:00:00</td>\n",
       "      <td>100</td>\n",
       "      <td>1500</td>\n",
       "      <td>100000</td>\n",
       "      <td>100</td>\n",
       "      <td>1.0</td>\n",
       "      <td>0.004</td>\n",
       "    </tr>\n",
       "    <tr>\n",
       "      <th>1</th>\n",
       "      <td>FastEthernet0/1</td>\n",
       "      <td>ipv4</td>\n",
       "      <td>13.0.0.1</td>\n",
       "      <td>30</td>\n",
       "      <td>CC:01:39:18:00:01</td>\n",
       "      <td>100</td>\n",
       "      <td>1500</td>\n",
       "      <td>100000</td>\n",
       "      <td>100</td>\n",
       "      <td>1.0</td>\n",
       "      <td>0.004</td>\n",
       "    </tr>\n",
       "    <tr>\n",
       "      <th>2</th>\n",
       "      <td>FastEthernet1/0</td>\n",
       "      <td>ipv4</td>\n",
       "      <td>192.168.182.131</td>\n",
       "      <td>24</td>\n",
       "      <td>CC:01:39:18:00:10</td>\n",
       "      <td>100</td>\n",
       "      <td>1500</td>\n",
       "      <td>100000</td>\n",
       "      <td>100</td>\n",
       "      <td>1.0</td>\n",
       "      <td>0.004</td>\n",
       "    </tr>\n",
       "    <tr>\n",
       "      <th>3</th>\n",
       "      <td>Loopback1</td>\n",
       "      <td>ipv4</td>\n",
       "      <td>192.168.1.1</td>\n",
       "      <td>32</td>\n",
       "      <td></td>\n",
       "      <td>8000</td>\n",
       "      <td>1514</td>\n",
       "      <td>8000000</td>\n",
       "      <td>5000</td>\n",
       "      <td>1.0</td>\n",
       "      <td>0.004</td>\n",
       "    </tr>\n",
       "  </tbody>\n",
       "</table>\n",
       "</div>"
      ],
      "text/plain": [
       "         interface protocol               IP  CIDR                MAC  speed  \\\n",
       "0  FastEthernet0/0     ipv4         12.0.0.1    30  CC:01:39:18:00:00    100   \n",
       "1  FastEthernet0/1     ipv4         13.0.0.1    30  CC:01:39:18:00:01    100   \n",
       "2  FastEthernet1/0     ipv4  192.168.182.131    24  CC:01:39:18:00:10    100   \n",
       "3        Loopback1     ipv4      192.168.1.1    32                      8000   \n",
       "\n",
       "    mtu       BW  delay  reliability   load  \n",
       "0  1500   100000    100          1.0  0.004  \n",
       "1  1500   100000    100          1.0  0.004  \n",
       "2  1500   100000    100          1.0  0.004  \n",
       "3  1514  8000000   5000          1.0  0.004  "
      ]
     },
     "metadata": {},
     "output_type": "display_data"
    },
    {
     "data": {
      "text/html": [
       "<div>\n",
       "<style scoped>\n",
       "    .dataframe tbody tr th:only-of-type {\n",
       "        vertical-align: middle;\n",
       "    }\n",
       "\n",
       "    .dataframe tbody tr th {\n",
       "        vertical-align: top;\n",
       "    }\n",
       "\n",
       "    .dataframe thead th {\n",
       "        text-align: right;\n",
       "    }\n",
       "</style>\n",
       "<table border=\"1\" class=\"dataframe\">\n",
       "  <thead>\n",
       "    <tr style=\"text-align: right;\">\n",
       "      <th></th>\n",
       "      <th>interface</th>\n",
       "      <th>protocol</th>\n",
       "      <th>IP</th>\n",
       "      <th>CIDR</th>\n",
       "      <th>MAC</th>\n",
       "      <th>speed</th>\n",
       "      <th>mtu</th>\n",
       "      <th>BW</th>\n",
       "      <th>delay</th>\n",
       "      <th>reliability</th>\n",
       "      <th>load</th>\n",
       "    </tr>\n",
       "  </thead>\n",
       "  <tbody>\n",
       "    <tr>\n",
       "      <th>0</th>\n",
       "      <td>FastEthernet0/0</td>\n",
       "      <td>ipv4</td>\n",
       "      <td>12.0.0.2</td>\n",
       "      <td>30</td>\n",
       "      <td>CC:01:39:18:00:00</td>\n",
       "      <td>100</td>\n",
       "      <td>1500</td>\n",
       "      <td>100000</td>\n",
       "      <td>100</td>\n",
       "      <td>1.0</td>\n",
       "      <td>0.004</td>\n",
       "    </tr>\n",
       "    <tr>\n",
       "      <th>1</th>\n",
       "      <td>FastEthernet0/1</td>\n",
       "      <td>ipv4</td>\n",
       "      <td>23.0.0.1</td>\n",
       "      <td>30</td>\n",
       "      <td>CC:01:39:18:00:01</td>\n",
       "      <td>100</td>\n",
       "      <td>1500</td>\n",
       "      <td>100000</td>\n",
       "      <td>100</td>\n",
       "      <td>1.0</td>\n",
       "      <td>0.004</td>\n",
       "    </tr>\n",
       "    <tr>\n",
       "      <th>2</th>\n",
       "      <td>FastEthernet1/0</td>\n",
       "      <td>ipv4</td>\n",
       "      <td>192.168.182.134</td>\n",
       "      <td>24</td>\n",
       "      <td>CC:01:39:18:00:10</td>\n",
       "      <td>100</td>\n",
       "      <td>1500</td>\n",
       "      <td>100000</td>\n",
       "      <td>100</td>\n",
       "      <td>1.0</td>\n",
       "      <td>0.004</td>\n",
       "    </tr>\n",
       "    <tr>\n",
       "      <th>3</th>\n",
       "      <td>Loopback1</td>\n",
       "      <td>ipv4</td>\n",
       "      <td>192.168.2.1</td>\n",
       "      <td>32</td>\n",
       "      <td></td>\n",
       "      <td>8000</td>\n",
       "      <td>1514</td>\n",
       "      <td>8000000</td>\n",
       "      <td>5000</td>\n",
       "      <td>1.0</td>\n",
       "      <td>0.004</td>\n",
       "    </tr>\n",
       "  </tbody>\n",
       "</table>\n",
       "</div>"
      ],
      "text/plain": [
       "         interface protocol               IP  CIDR                MAC  speed  \\\n",
       "0  FastEthernet0/0     ipv4         12.0.0.2    30  CC:01:39:18:00:00    100   \n",
       "1  FastEthernet0/1     ipv4         23.0.0.1    30  CC:01:39:18:00:01    100   \n",
       "2  FastEthernet1/0     ipv4  192.168.182.134    24  CC:01:39:18:00:10    100   \n",
       "3        Loopback1     ipv4      192.168.2.1    32                      8000   \n",
       "\n",
       "    mtu       BW  delay  reliability   load  \n",
       "0  1500   100000    100          1.0  0.004  \n",
       "1  1500   100000    100          1.0  0.004  \n",
       "2  1500   100000    100          1.0  0.004  \n",
       "3  1514  8000000   5000          1.0  0.004  "
      ]
     },
     "metadata": {},
     "output_type": "display_data"
    },
    {
     "data": {
      "text/html": [
       "<div>\n",
       "<style scoped>\n",
       "    .dataframe tbody tr th:only-of-type {\n",
       "        vertical-align: middle;\n",
       "    }\n",
       "\n",
       "    .dataframe tbody tr th {\n",
       "        vertical-align: top;\n",
       "    }\n",
       "\n",
       "    .dataframe thead th {\n",
       "        text-align: right;\n",
       "    }\n",
       "</style>\n",
       "<table border=\"1\" class=\"dataframe\">\n",
       "  <thead>\n",
       "    <tr style=\"text-align: right;\">\n",
       "      <th></th>\n",
       "      <th>interface</th>\n",
       "      <th>protocol</th>\n",
       "      <th>IP</th>\n",
       "      <th>CIDR</th>\n",
       "      <th>MAC</th>\n",
       "      <th>speed</th>\n",
       "      <th>mtu</th>\n",
       "      <th>BW</th>\n",
       "      <th>delay</th>\n",
       "      <th>reliability</th>\n",
       "      <th>load</th>\n",
       "    </tr>\n",
       "  </thead>\n",
       "  <tbody>\n",
       "    <tr>\n",
       "      <th>0</th>\n",
       "      <td>FastEthernet0/0</td>\n",
       "      <td>ipv4</td>\n",
       "      <td>13.0.0.2</td>\n",
       "      <td>30</td>\n",
       "      <td>CC:01:39:18:00:00</td>\n",
       "      <td>100</td>\n",
       "      <td>1500</td>\n",
       "      <td>100000</td>\n",
       "      <td>100</td>\n",
       "      <td>1.0</td>\n",
       "      <td>0.004</td>\n",
       "    </tr>\n",
       "    <tr>\n",
       "      <th>1</th>\n",
       "      <td>FastEthernet0/1</td>\n",
       "      <td>ipv4</td>\n",
       "      <td>23.0.0.2</td>\n",
       "      <td>30</td>\n",
       "      <td>CC:01:39:18:00:01</td>\n",
       "      <td>100</td>\n",
       "      <td>1500</td>\n",
       "      <td>100000</td>\n",
       "      <td>100</td>\n",
       "      <td>1.0</td>\n",
       "      <td>0.004</td>\n",
       "    </tr>\n",
       "    <tr>\n",
       "      <th>2</th>\n",
       "      <td>FastEthernet1/0</td>\n",
       "      <td>ipv4</td>\n",
       "      <td>192.168.182.135</td>\n",
       "      <td>24</td>\n",
       "      <td>CC:01:39:18:00:10</td>\n",
       "      <td>100</td>\n",
       "      <td>1500</td>\n",
       "      <td>100000</td>\n",
       "      <td>100</td>\n",
       "      <td>1.0</td>\n",
       "      <td>0.004</td>\n",
       "    </tr>\n",
       "  </tbody>\n",
       "</table>\n",
       "</div>"
      ],
      "text/plain": [
       "         interface protocol               IP  CIDR                MAC  speed  \\\n",
       "0  FastEthernet0/0     ipv4         13.0.0.2    30  CC:01:39:18:00:00    100   \n",
       "1  FastEthernet0/1     ipv4         23.0.0.2    30  CC:01:39:18:00:01    100   \n",
       "2  FastEthernet1/0     ipv4  192.168.182.135    24  CC:01:39:18:00:10    100   \n",
       "\n",
       "    mtu      BW  delay  reliability   load  \n",
       "0  1500  100000    100          1.0  0.004  \n",
       "1  1500  100000    100          1.0  0.004  \n",
       "2  1500  100000    100          1.0  0.004  "
      ]
     },
     "metadata": {},
     "output_type": "display_data"
    }
   ],
   "source": [
    "from IPython.display import display, HTML\n",
    "\n",
    "for i in get_intf(r_obj_list)['r_details']:\n",
    "    display(i)"
   ]
  },
  {
   "cell_type": "markdown",
   "metadata": {},
   "source": [
    "# gathering EIGRP Tables "
   ]
  },
  {
   "cell_type": "code",
   "execution_count": 10,
   "metadata": {},
   "outputs": [
    {
     "name": "stdout",
     "output_type": "stream",
     "text": [
      "MTU 1500 bytes, BW 100000 Kbit/sec, DLY 100 usec,\n",
      "reliability 255/255, txload 1/255, rxload 1/255\n"
     ]
    }
   ],
   "source": [
    "ro=r_obj_list[0]\n",
    "x=list(ro.get_interfaces_ip())\n",
    "\n",
    "mbd=list(ro.cli([f'sh int {x[0]} | inc MTU']).values())[0]\n",
    "rl=list(ro.cli([f'sh int {x[0]} | inc reliability']).values())[0]\n",
    "print(mbd)\n",
    "print(rl)"
   ]
  },
  {
   "cell_type": "code",
   "execution_count": 11,
   "metadata": {},
   "outputs": [
    {
     "name": "stdout",
     "output_type": "stream",
     "text": [
      "1500 100000 100 1.0 0.004\n"
     ]
    }
   ],
   "source": [
    "mtu=int(mbd.split(' ')[1])\n",
    "bw=int(mbd.split(' ')[4])\n",
    "dly=int(mbd.split(' ')[7])\n",
    "rly=eval(rl.split(' ')[1])[0]\n",
    "ld=round((eval(rl.split(' ')[3].split(',')[0]) + eval(rl.split(' ')[5]))/2,3)\n",
    "\n",
    "#round(eval(rl.split(' ')[3].split(',')[0]),3)\n",
    "         \n",
    "print(mtu, bw,dly,rly,ld)"
   ]
  },
  {
   "cell_type": "code",
   "execution_count": 12,
   "metadata": {},
   "outputs": [
    {
     "data": {
      "text/plain": [
       "['R1', 'R2', 'R3']"
      ]
     },
     "execution_count": 12,
     "metadata": {},
     "output_type": "execute_result"
    }
   ],
   "source": [
    "r_fact_df['hostname'].tolist()"
   ]
  },
  {
   "cell_type": "code",
   "execution_count": null,
   "metadata": {},
   "outputs": [],
   "source": []
  },
  {
   "cell_type": "code",
   "execution_count": null,
   "metadata": {},
   "outputs": [],
   "source": []
  }
 ],
 "metadata": {
  "kernelspec": {
   "display_name": "Python 3",
   "language": "python",
   "name": "python3"
  },
  "language_info": {
   "codemirror_mode": {
    "name": "ipython",
    "version": 3
   },
   "file_extension": ".py",
   "mimetype": "text/x-python",
   "name": "python",
   "nbconvert_exporter": "python",
   "pygments_lexer": "ipython3",
   "version": "3.7.3"
  }
 },
 "nbformat": 4,
 "nbformat_minor": 2
}
