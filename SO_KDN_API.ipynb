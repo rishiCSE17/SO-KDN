{
 "cells": [
  {
   "cell_type": "markdown",
   "metadata": {},
   "source": [
    "# Connector API\n",
    "this API takes a dictionary `con_dict` containing a list of management IP addesses given to a routers which is SSH enabled, along with the SSH username and passwords. "
   ]
  },
  {
   "cell_type": "markdown",
   "metadata": {},
   "source": [
    "## Configure Management Interface\n",
    "Enter connection parameters into a __.csv__ file, supply the file location to __`conn_file`__ argument of __`gen_management_script`__ function, to see the file's content set True to __`show_file`__ argument. This generates management script, Copy and paste the script to the router while in priviledge mode. "
   ]
  },
  {
   "cell_type": "code",
   "execution_count": 1,
   "metadata": {},
   "outputs": [],
   "source": [
    "import napalm as npm\n",
    "import pandas as pd\n",
    "import threading \n",
    "import networkx as nx"
   ]
  },
  {
   "cell_type": "code",
   "execution_count": 2,
   "metadata": {},
   "outputs": [],
   "source": [
    "def gen_ssh_script(conn_file, show_file):\n",
    "    \n",
    "    '''\n",
    "    Generates SSH config for Cisco Routers \n",
    "    @Author : Saptarshi Ghosh\n",
    "    @Arguments\n",
    "        conn_file : STRING, file location to config CSV file\n",
    "        show_file : BOOLEAN, if you want to see file content \n",
    "    '''\n",
    "    \n",
    "    import pandas as pd\n",
    "    con_params = pd.read_csv(conn_file)\n",
    "    if show_file:\n",
    "        print('Input params \\n')\n",
    "        print(con_params)\n",
    "    print(\"\\n\\nConfigurations\")\n",
    "    for i in range(con_params.shape[0]):\n",
    "        r_param  = con_params.iloc[i].to_dict()\n",
    "        print('--------------------------------------------')\n",
    "        print(f\"{r_param['Router_name']}\")\n",
    "        print('--------------------------------------------')\n",
    "    \n",
    "        print(f\" \\\n",
    "        conf t   \\n \\\n",
    "        hostname {r_param['Router_name']} \\n \\\n",
    "        ena secret {r_param['Secret']} \\n \\\n",
    "        int  {r_param['Manage_iface']} \\n \\\n",
    "            ip add {r_param['IP_address']} \\n \\\n",
    "            no sh \\n \\\n",
    "        exit \\n \\\n",
    "        ip ssh ver 2 \\n \\\n",
    "        ip domain-name {r_param['Domain_name']} \\n \\\n",
    "        user {r_param['Username']} password {r_param['Password']} \\n \\\n",
    "        crypto key gen rsa gen mod {r_param['Key_len']} \\n \\\n",
    "        line vty 0 4 \\n \\\n",
    "            transport input ssh \\n \\\n",
    "            transport output ssh \\n \\\n",
    "            login local \\n \\\n",
    "        end\" )"
   ]
  },
  {
   "cell_type": "code",
   "execution_count": 4,
   "metadata": {},
   "outputs": [
    {
     "name": "stdout",
     "output_type": "stream",
     "text": [
      "Input params \n",
      "\n",
      "  Router_name Manage_iface IP_address Domain_name Username Password  Key_len  \\\n",
      "0     router1         E1/0       dhcp  lsbu.ac.uk    user2  pass123     2048   \n",
      "1     router2         E1/0       dhcp  lsbu.ac.uk    user1     pass     2048   \n",
      "2     router3         E1/0       dhcp  lsbu.ac.uk    user1     pass     2048   \n",
      "\n",
      "  Secret  \n",
      "0  cisco  \n",
      "1  cisco  \n",
      "2  cisco  \n",
      "\n",
      "\n",
      "Configurations\n",
      "--------------------------------------------\n",
      "router1\n",
      "--------------------------------------------\n",
      "         conf t   \n",
      "         hostname router1 \n",
      "         ena secret cisco \n",
      "         int  E1/0 \n",
      "             ip add dhcp \n",
      "             no sh \n",
      "         exit \n",
      "         ip ssh ver 2 \n",
      "         ip domain-name lsbu.ac.uk \n",
      "         user user2 password pass123 \n",
      "         crypto key gen rsa gen mod 2048 \n",
      "         line vty 0 4 \n",
      "             transport input ssh \n",
      "             transport output ssh \n",
      "             login local \n",
      "         end\n",
      "--------------------------------------------\n",
      "router2\n",
      "--------------------------------------------\n",
      "         conf t   \n",
      "         hostname router2 \n",
      "         ena secret cisco \n",
      "         int  E1/0 \n",
      "             ip add dhcp \n",
      "             no sh \n",
      "         exit \n",
      "         ip ssh ver 2 \n",
      "         ip domain-name lsbu.ac.uk \n",
      "         user user1 password pass \n",
      "         crypto key gen rsa gen mod 2048 \n",
      "         line vty 0 4 \n",
      "             transport input ssh \n",
      "             transport output ssh \n",
      "             login local \n",
      "         end\n",
      "--------------------------------------------\n",
      "router3\n",
      "--------------------------------------------\n",
      "         conf t   \n",
      "         hostname router3 \n",
      "         ena secret cisco \n",
      "         int  E1/0 \n",
      "             ip add dhcp \n",
      "             no sh \n",
      "         exit \n",
      "         ip ssh ver 2 \n",
      "         ip domain-name lsbu.ac.uk \n",
      "         user user1 password pass \n",
      "         crypto key gen rsa gen mod 2048 \n",
      "         line vty 0 4 \n",
      "             transport input ssh \n",
      "             transport output ssh \n",
      "             login local \n",
      "         end\n"
     ]
    }
   ],
   "source": [
    "gen_ssh_script(conn_file='configs/management_specs.csv', show_file=True)"
   ]
  },
  {
   "cell_type": "markdown",
   "metadata": {},
   "source": [
    "## Connect to the routers \n",
    "1. Go to the router's terminal and fire the command `sh ip interface brief | exclude unassigned` and copy the IP address assigned on the given interface. \n",
    "2. create another csv file list the corresponsing __`IP address, username and password`__ here we use the file  __`credentials.csv`__\n",
    "3. the __`Init_con`__ function will initiate a SSH connection to the given routers  \n",
    "4. write the follwing config to __`~/.ssh/config`__ file\n",
    "```\n",
    "Host 0.0.0.0\n",
    "    KexAlgorithms +diffie-hellman-group1-sha1\n",
    "```"
   ]
  },
  {
   "cell_type": "code",
   "execution_count": 5,
   "metadata": {},
   "outputs": [],
   "source": [
    "p_lock = threading.Lock()\n",
    "\n",
    "def init_param(cred_dict):\n",
    "    # create a driver \n",
    "    driver = npm.get_network_driver('ios')\n",
    "    \n",
    "    router_obj_list=[]\n",
    "    # create a routre Object list\n",
    "    \n",
    "    for i in range(len(cred_dict['ip_list'])):\n",
    "        router_obj_list.append(driver(hostname=cred_dict['ip_list'][i], \n",
    "                                      username=cred_dict['uname_list'][i], \n",
    "                                      password=cred_dict['pass_list'][i],\n",
    "                                      optional_args={'secret' : cred_dict['sec_list'][i]})\n",
    "                              )\n",
    "    \n",
    "    return router_obj_list"
   ]
  },
  {
   "cell_type": "code",
   "execution_count": 6,
   "metadata": {},
   "outputs": [],
   "source": [
    "def th_func(ro):\n",
    "    ro.open()\n",
    "    temp = ro.get_facts()\n",
    "    print(f\"\\t Connection to {temp['vendor']} {temp['model']} Successfull... !\")\n",
    "    \n",
    "def open_conn_MT(router_obj_list):\n",
    "    thread_list=[]\n",
    "    for ro in router_obj_list:\n",
    "        thread_list.append(threading.Thread(target=th_func, args=(ro,)))\n",
    "    for th in thread_list:\n",
    "        th.start()\n",
    "    for th in thread_list:\n",
    "        th.join()"
   ]
  },
  {
   "cell_type": "code",
   "execution_count": 7,
   "metadata": {},
   "outputs": [],
   "source": [
    "net = []        \n",
    "def fetch_rt(router, route_type, mgmt_net):\n",
    "    cmd=f'sh ip route {route_type}'\n",
    "    rows = router.cli([cmd])[cmd].split('\\n')\n",
    "    prefix=[]\n",
    "    for i in rows:\n",
    "        if mgmt_net not in i:\n",
    "            a=i.split(' ')[4]\n",
    "            if '/' in a:\n",
    "                prefix.append(a)\n",
    "            else:\n",
    "                b = i.split(' ')[5]\n",
    "                if '/' in b:\n",
    "                    prefix.append(b)\n",
    "    with p_lock:\n",
    "        net.append(prefix)\n",
    "\n",
    "def get_routing_tables(ro_list, route_type, mgmt_net ):\n",
    "    thread_list =[]\n",
    "    for j in range(len(ro_list)):\n",
    "        thread_list.append(threading.Thread(target=fetch_rt , \n",
    "                                            args=(ro_list[j], route_type, mgmt_net)\n",
    "                                           )\n",
    "                          )\n",
    "    for th in thread_list:\n",
    "        th.start()\n",
    "    for th in thread_list:\n",
    "        th.join()\n",
    "    return net"
   ]
  },
  {
   "cell_type": "code",
   "execution_count": 8,
   "metadata": {},
   "outputs": [],
   "source": [
    "def gen_graph(n):\n",
    "    import matplotlib.pyplot as plt\n",
    "    import networkx as nx\n",
    "    %matplotlib inline\n",
    "    \n",
    "    for i in n:\n",
    "        print(i)\n",
    "    \n",
    "    g=nx.Graph()\n",
    "    plt.figure(figsize=(15,10))\n",
    "    e_list=[]\n",
    "    for r in range(len(n)):\n",
    "        for i in range(len(n[r])):\n",
    "            for j in range(i+1,len(n[r])):\n",
    "                e_list.append( (n[r][i],n[r][j]) )\n",
    "    e_list\n",
    "    #print(e_list)\n",
    "    g.add_edges_from(e_list)\n",
    "    nx.draw_networkx(g,pos=nx.spiral_layout(g));\n",
    "    plt.show()\n",
    "    return g"
   ]
  },
  {
   "cell_type": "code",
   "execution_count": 9,
   "metadata": {},
   "outputs": [],
   "source": [
    "def get_APSP(topology):\n",
    "    nets = list(topology.nodes())\n",
    "    apsp = []\n",
    "    for s in range(len(nets)):\n",
    "        for d in range(s+1, len(nets)):\n",
    "            apsp.append( {'src' : nets[s],\n",
    "                          'dst' : nets[d],\n",
    "                          'path': nx.dijkstra_path(topology,\n",
    "                                                   source=nets[s],\n",
    "                                                   target=nets[d])\n",
    "                \n",
    "            })\n",
    "    for sp in apsp:\n",
    "        print(f\"{sp['src']} <---> {sp['dst']} \\n \\\n",
    "                {sp['path']}\\n\")"
   ]
  },
  {
   "cell_type": "code",
   "execution_count": 10,
   "metadata": {},
   "outputs": [],
   "source": [
    "def init_con(cred_file, show_file):\n",
    "    global net\n",
    "    net = []\n",
    "    credentials = pd.read_csv(cred_file)\n",
    "    print(credentials)\n",
    "    print('\\n')\n",
    "    ro_list = init_param( cred_dict=\n",
    "                         { 'ip_list'   : credentials['IP_address'].tolist(),\n",
    "                           'uname_list': credentials['Username'].tolist(),\n",
    "                           'pass_list' : credentials['Password'].tolist(),\n",
    "                           'sec_list'  : credentials['Secret'].tolist()} \n",
    "              )\n",
    "    \n",
    "    print('Eshtablishing Secure Connection to Routers...')\n",
    "    open_conn_MT(router_obj_list = ro_list)\n",
    "\n",
    "    print('Accumulating Connected Routes...')\n",
    "    net = get_routing_tables(ro_list=ro_list, route_type='conn', mgmt_net='192.168.122.0')\n",
    "\n",
    "    print('Generating Topology View...')\n",
    "    topo = gen_graph(n = net)\n",
    "\n",
    "    print('Calculating Proactive SPF... ')\n",
    "    get_APSP(topology=topo)\n",
    "\n",
    "    return ro_list"
   ]
  },
  {
   "cell_type": "code",
   "execution_count": 13,
   "metadata": {
    "scrolled": false
   },
   "outputs": [
    {
     "name": "stdout",
     "output_type": "stream",
     "text": [
      "        IP_address Username Password Secret\n",
      "0  192.168.122.233    user1     pass  cisco\n",
      "1  192.168.122.209    user1     pass  cisco\n",
      "2  192.168.122.111    user1     pass  cisco\n",
      "\n",
      "\n",
      "Eshtablishing Secure Connection to Routers...\n",
      "\t Connection to Cisco 3660 Successfull... !\n",
      "\t Connection to Cisco 3660 Successfull... !\n",
      "\t Connection to Cisco 3660 Successfull... !\n",
      "Accumulating Connected Routes...\n",
      "Generating Topology View...\n",
      "['23.0.0.0/24', '192.168.5.0/24', '192.168.6.0/24', '13.0.0.0/24']\n",
      "['23.0.0.0/24', '192.168.4.0/24', '12.0.0.0/24', '192.168.3.0/24']\n",
      "['12.0.0.0/24', '192.168.1.0/24', '13.0.0.0/24', '192.168.2.0/24']\n"
     ]
    },
    {
     "data": {
      "image/png": "[encoded data removed]",
      "text/plain": [
       "<Figure size 1080x720 with 1 Axes>"
      ]
     },
     "metadata": {},
     "output_type": "display_data"
    },
    {
     "name": "stdout",
     "output_type": "stream",
     "text": [
      "Calculating Proactive SPF... \n",
      "23.0.0.0/24 <---> 192.168.5.0/24 \n",
      "                 ['23.0.0.0/24', '192.168.5.0/24']\n",
      "\n",
      "23.0.0.0/24 <---> 192.168.6.0/24 \n",
      "                 ['23.0.0.0/24', '192.168.6.0/24']\n",
      "\n",
      "23.0.0.0/24 <---> 13.0.0.0/24 \n",
      "                 ['23.0.0.0/24', '13.0.0.0/24']\n",
      "\n",
      "23.0.0.0/24 <---> 192.168.4.0/24 \n",
      "                 ['23.0.0.0/24', '192.168.4.0/24']\n",
      "\n",
      "23.0.0.0/24 <---> 12.0.0.0/24 \n",
      "                 ['23.0.0.0/24', '12.0.0.0/24']\n",
      "\n",
      "23.0.0.0/24 <---> 192.168.3.0/24 \n",
      "                 ['23.0.0.0/24', '192.168.3.0/24']\n",
      "\n",
      "23.0.0.0/24 <---> 192.168.1.0/24 \n",
      "                 ['23.0.0.0/24', '13.0.0.0/24', '192.168.1.0/24']\n",
      "\n",
      "23.0.0.0/24 <---> 192.168.2.0/24 \n",
      "                 ['23.0.0.0/24', '13.0.0.0/24', '192.168.2.0/24']\n",
      "\n",
      "192.168.5.0/24 <---> 192.168.6.0/24 \n",
      "                 ['192.168.5.0/24', '192.168.6.0/24']\n",
      "\n",
      "192.168.5.0/24 <---> 13.0.0.0/24 \n",
      "                 ['192.168.5.0/24', '13.0.0.0/24']\n",
      "\n",
      "192.168.5.0/24 <---> 192.168.4.0/24 \n",
      "                 ['192.168.5.0/24', '23.0.0.0/24', '192.168.4.0/24']\n",
      "\n",
      "192.168.5.0/24 <---> 12.0.0.0/24 \n",
      "                 ['192.168.5.0/24', '23.0.0.0/24', '12.0.0.0/24']\n",
      "\n",
      "192.168.5.0/24 <---> 192.168.3.0/24 \n",
      "                 ['192.168.5.0/24', '23.0.0.0/24', '192.168.3.0/24']\n",
      "\n",
      "192.168.5.0/24 <---> 192.168.1.0/24 \n",
      "                 ['192.168.5.0/24', '13.0.0.0/24', '192.168.1.0/24']\n",
      "\n",
      "192.168.5.0/24 <---> 192.168.2.0/24 \n",
      "                 ['192.168.5.0/24', '13.0.0.0/24', '192.168.2.0/24']\n",
      "\n",
      "192.168.6.0/24 <---> 13.0.0.0/24 \n",
      "                 ['192.168.6.0/24', '13.0.0.0/24']\n",
      "\n",
      "192.168.6.0/24 <---> 192.168.4.0/24 \n",
      "                 ['192.168.6.0/24', '23.0.0.0/24', '192.168.4.0/24']\n",
      "\n",
      "192.168.6.0/24 <---> 12.0.0.0/24 \n",
      "                 ['192.168.6.0/24', '23.0.0.0/24', '12.0.0.0/24']\n",
      "\n",
      "192.168.6.0/24 <---> 192.168.3.0/24 \n",
      "                 ['192.168.6.0/24', '23.0.0.0/24', '192.168.3.0/24']\n",
      "\n",
      "192.168.6.0/24 <---> 192.168.1.0/24 \n",
      "                 ['192.168.6.0/24', '13.0.0.0/24', '192.168.1.0/24']\n",
      "\n",
      "192.168.6.0/24 <---> 192.168.2.0/24 \n",
      "                 ['192.168.6.0/24', '13.0.0.0/24', '192.168.2.0/24']\n",
      "\n",
      "13.0.0.0/24 <---> 192.168.4.0/24 \n",
      "                 ['13.0.0.0/24', '23.0.0.0/24', '192.168.4.0/24']\n",
      "\n",
      "13.0.0.0/24 <---> 12.0.0.0/24 \n",
      "                 ['13.0.0.0/24', '12.0.0.0/24']\n",
      "\n",
      "13.0.0.0/24 <---> 192.168.3.0/24 \n",
      "                 ['13.0.0.0/24', '23.0.0.0/24', '192.168.3.0/24']\n",
      "\n",
      "13.0.0.0/24 <---> 192.168.1.0/24 \n",
      "                 ['13.0.0.0/24', '192.168.1.0/24']\n",
      "\n",
      "13.0.0.0/24 <---> 192.168.2.0/24 \n",
      "                 ['13.0.0.0/24', '192.168.2.0/24']\n",
      "\n",
      "192.168.4.0/24 <---> 12.0.0.0/24 \n",
      "                 ['192.168.4.0/24', '12.0.0.0/24']\n",
      "\n",
      "192.168.4.0/24 <---> 192.168.3.0/24 \n",
      "                 ['192.168.4.0/24', '192.168.3.0/24']\n",
      "\n",
      "192.168.4.0/24 <---> 192.168.1.0/24 \n",
      "                 ['192.168.4.0/24', '12.0.0.0/24', '192.168.1.0/24']\n",
      "\n",
      "192.168.4.0/24 <---> 192.168.2.0/24 \n",
      "                 ['192.168.4.0/24', '12.0.0.0/24', '192.168.2.0/24']\n",
      "\n",
      "12.0.0.0/24 <---> 192.168.3.0/24 \n",
      "                 ['12.0.0.0/24', '192.168.3.0/24']\n",
      "\n",
      "12.0.0.0/24 <---> 192.168.1.0/24 \n",
      "                 ['12.0.0.0/24', '192.168.1.0/24']\n",
      "\n",
      "12.0.0.0/24 <---> 192.168.2.0/24 \n",
      "                 ['12.0.0.0/24', '192.168.2.0/24']\n",
      "\n",
      "192.168.3.0/24 <---> 192.168.1.0/24 \n",
      "                 ['192.168.3.0/24', '12.0.0.0/24', '192.168.1.0/24']\n",
      "\n",
      "192.168.3.0/24 <---> 192.168.2.0/24 \n",
      "                 ['192.168.3.0/24', '12.0.0.0/24', '192.168.2.0/24']\n",
      "\n",
      "192.168.1.0/24 <---> 192.168.2.0/24 \n",
      "                 ['192.168.1.0/24', '192.168.2.0/24']\n",
      "\n"
     ]
    },
    {
     "data": {
      "text/plain": [
       "[<napalm.ios.ios.IOSDriver at 0x7f5234212690>,\n",
       " <napalm.ios.ios.IOSDriver at 0x7f521ecf5090>,\n",
       " <napalm.ios.ios.IOSDriver at 0x7f5237ee67d0>]"
      ]
     },
     "execution_count": 13,
     "metadata": {},
     "output_type": "execute_result"
    }
   ],
   "source": [
    "init_con(cred_file='configs/credentials.csv',show_file=True)"
   ]
  },
  {
   "cell_type": "code",
   "execution_count": null,
   "metadata": {},
   "outputs": [],
   "source": []
  },
  {
   "cell_type": "code",
   "execution_count": null,
   "metadata": {},
   "outputs": [],
   "source": [
    "r1 = {'name': 'r1', 'ro' : ['12.0.0.0' , '13.0.0.0'] , 'iface' : ['f0/0' , 'f0/1']}\n",
    "r2 = {'name': 'r2', 'ro' : ['12.0.0.0' , '23.0.0.0'] , 'iface' : ['f0/0' , 'f0/1']}\n",
    "r3 = {'name': 'r3', 'ro' : ['13.0.0.0' , '23.0.0.0'] , 'iface' : ['f0/0' , 'f0/1']}\n",
    "\n",
    "router_list = [r1,r2,r3]\n",
    "r=[]\n",
    "ret = {}\n",
    "for ri in rl:\n",
    "    r+=ri['ro']\n",
    "net_id_list=list(set(r))\n",
    "\n",
    "for net_id in net_id_list:\n",
    "    ret[ net_id ] = []\n",
    "    for router in router_list:\n",
    "        if net_id in router['ro']:\n",
    "            ret[ net_id ].append(router['name'])\n",
    "ret"
   ]
  },
  {
   "cell_type": "code",
   "execution_count": null,
   "metadata": {},
   "outputs": [],
   "source": [
    "def build_incidence_matrix(router_list):\n",
    "    net_list = []\n",
    "    for router in router_list:\n",
    "        net_list += router['ro']\n",
    "    net_list = list( set(net_list) )\n",
    "\n",
    "    print(net_list)\n",
    "    inc_mat = {}\n",
    "    \n",
    "    for net_id in net_list:\n",
    "        inc_mat[net_id]=[]\n",
    "        for router in router_list:\n",
    "            for i in range(len(router['ro'])):\n",
    "                if router['ro'][i] == net_id:\n",
    "                    inc_mat[net_id].append(router['name']+_+router['iface'][i])\n",
    "    print(inc_mat)\n",
    "    "
   ]
  },
  {
   "cell_type": "code",
   "execution_count": null,
   "metadata": {},
   "outputs": [],
   "source": [
    "build_incidence_matrix(router_list)"
   ]
  },
  {
   "cell_type": "code",
   "execution_count": null,
   "metadata": {},
   "outputs": [],
   "source": [
    "router_list"
   ]
  },
  {
   "cell_type": "code",
   "execution_count": null,
   "metadata": {},
   "outputs": [],
   "source": [
    "a=[1,1,3]"
   ]
  },
  {
   "cell_type": "code",
   "execution_count": null,
   "metadata": {},
   "outputs": [],
   "source": [
    "[a == 1]"
   ]
  },
  {
   "cell_type": "code",
   "execution_count": null,
   "metadata": {},
   "outputs": [],
   "source": []
  },
  {
   "cell_type": "code",
   "execution_count": null,
   "metadata": {},
   "outputs": [],
   "source": [
    "g=nx.Graph()"
   ]
  },
  {
   "cell_type": "code",
   "execution_count": null,
   "metadata": {},
   "outputs": [],
   "source": [
    "n = [['192.168.1.0','192.168.2.0','12.0.0.0'],\n",
    "     ['192.168.3.0','192.168.4.0','12.0.0.0','23.0.0.0'],\n",
    "     ['192.168.5.0','192.168.6.0','23.0.0.0']]"
   ]
  },
  {
   "cell_type": "code",
   "execution_count": null,
   "metadata": {},
   "outputs": [],
   "source": [
    "n"
   ]
  },
  {
   "cell_type": "code",
   "execution_count": null,
   "metadata": {},
   "outputs": [],
   "source": [
    "nx.shortest_path(g, source='192.168.1.0', target='192.168.5.0')"
   ]
  },
  {
   "cell_type": "code",
   "execution_count": null,
   "metadata": {},
   "outputs": [],
   "source": [
    "a=[1,2,3,4]"
   ]
  },
  {
   "cell_type": "code",
   "execution_count": null,
   "metadata": {},
   "outputs": [],
   "source": [
    "a.remove(2)"
   ]
  },
  {
   "cell_type": "code",
   "execution_count": null,
   "metadata": {},
   "outputs": [],
   "source": [
    "a"
   ]
  },
  {
   "cell_type": "code",
   "execution_count": null,
   "metadata": {},
   "outputs": [],
   "source": []
  }
 ],
 "metadata": {
  "kernelspec": {
   "display_name": "Python 3",
   "language": "python",
   "name": "python3"
  },
  "language_info": {
   "codemirror_mode": {
    "name": "ipython",
    "version": 3
   },
   "file_extension": ".py",
   "mimetype": "text/x-python",
   "name": "python",
   "nbconvert_exporter": "python",
   "pygments_lexer": "ipython3",
   "version": "3.7.6"
  }
 },
 "nbformat": 4,
 "nbformat_minor": 4
}
